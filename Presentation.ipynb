{
 "cells": [
  {
   "cell_type": "code",
   "execution_count": 170,
   "id": "d88d1573",
   "metadata": {
    "slideshow": {
     "slide_type": "skip"
    }
   },
   "outputs": [
    {
     "data": {
      "text/html": [
       "<link rel=\"stylesheet\" href=\"mycss.css\"/>\n"
      ],
      "text/plain": [
       "<IPython.core.display.HTML object>"
      ]
     },
     "metadata": {},
     "output_type": "display_data"
    }
   ],
   "source": [
    "%%HTML\n",
    "<link rel=\"stylesheet\" href=\"mycss.css\"/>"
   ]
  },
  {
   "cell_type": "markdown",
   "id": "fd681ce2",
   "metadata": {
    "slideshow": {
     "slide_type": "slide"
    }
   },
   "source": [
    "<h1 style=\"text-align:center\">Projet Analyse des données</h1>\n",
    "\n",
    "<h1 style=\"text-align:center\">Thème : <span style=\"color:blue\">Fraude sur les cartes de crédit</span> </h1>\n",
    "\n",
    "<img src=\"images/Credit-cards.jpg\" width=\"300\" align=\"left\"/>\n",
    "<img src=\"images/Credit-cards.jpg\" width=\"300\" align=\"right\"/>\n",
    "<h4 style=\"text-align:center\">Présenté par BAOULA NANTAN ABDOUL AZIZ</h4>"
   ]
  },
  {
   "cell_type": "markdown",
   "id": "0315a9b8",
   "metadata": {
    "slideshow": {
     "slide_type": "slide"
    }
   },
   "source": [
    "<h1 class=\"fragment\" data-fragment-index=\"1\">Qu'est ce que la fraude par <span style=\"color:blue\"> carte de credit ? </span> </h1> \n",
    "<h4 class=\"fragment\" data-fragment-index=\"2\">La fraude par carte de crédit est l’utilisation non autorisée d’un compte de carte de crédit, dérobé physiquement, dérobé électroniquement par des dispositifs de « skimming » ou des logiciels malveillants, ou acheté sur le dark web, dans le but d’obtenir de l’argent, des produits ou des services.</h4>"
   ]
  },
  {
   "cell_type": "markdown",
   "id": "28f22b27",
   "metadata": {
    "slideshow": {
     "slide_type": "slide"
    }
   },
   "source": [
    "<h1 class=\"fragment\" data-fragment-index=\"1\">Notre <span style=\"color:blue\">étude</span> consistera à : </h1>\n",
    "<p class=\"fragment fade-in-then-out\" data-fragment-index=\"2\"> \n",
    "<ul>\n",
    "    <li class=\"fragment\" data-fragment-index=\"3\">Visualisez le dataset</li>\n",
    "    <li class=\"fragment\" data-fragment-index=\"4\">Visualisez la structure du dataset</li>\n",
    "    <li class=\"fragment\" data-fragment-index=\"5\">Faire la description statistique des données</li>\n",
    "    <li class=\"fragment\" data-fragment-index=\"6\">Vérifiez s'il y'a des NaN </li>\n",
    "    <li class=\"fragment\" data-fragment-index=\"7\">Comptez les cas de fraudes et de non fraude</li>\n",
    "    <li class=\"fragment\" data-fragment-index=\"8\">Faire le graphe de fraudes et de non fraude</li>\n",
    "    <li class=\"fragment\" data-fragment-index=\"9\">Faire le graphe pour le nombre de proprietaire des cartes dans les différents Etats </li>\n",
    "    <li class=\"fragment\" data-fragment-index=\"10\">Faire le graphe des 10 jobs qui sont les plus nombreux dans le dataset \n",
    "    </li>\n",
    "    <li class=\"fragment\" data-fragment-index=\"11\">Faire le graphe des 10 jobs qui sont les moins nombreux dans le dataset \n",
    "    </li>\n",
    "    <li class=\"fragment\" data-fragment-index=\"12\">Faire le graphe global des ages  </li>\n",
    "</ul>\n",
    "</p>\n"
   ]
  },
  {
   "cell_type": "markdown",
   "id": "458d369c",
   "metadata": {
    "slideshow": {
     "slide_type": "slide"
    }
   },
   "source": [
    "\n",
    "<h1 class=\"fragment\" data-fragment-index=\"1\">Notre <span style=\"color:blue\">étude</span> consistera à : </h1>\n",
    "<p class=\"fragment fade-in-then-out\" data-fragment-index=\"2\"> \n",
    "<ul>\n",
    "    <li class=\"fragment\" data-fragment-index=\"3\">Faire le graphe des ages dans les différents Etats </li>\n",
    "    <li class=\"fragment\" data-fragment-index=\"4\">Vérifiez la tranche d'ages la plus susceptibles d'etre victime de fraude </li>\n",
    "    <li class=\"fragment\" data-fragment-index=\"5\">Faire le graphe des montants de toutes les dépenses</li>\n",
    "    <li class=\"fragment\" data-fragment-index=\"6\">Faire le graphe des dépenses sur les fraudes</li>\n",
    "    <li class=\"fragment\" data-fragment-index=\"7\">Visualisez le plus haut montant et le plus bas montant des fraudes</li>\n",
    "    <li class=\"fragment\" data-fragment-index=\"8\">Utilisez SqLite pour stocker le dataset dans une base de données et faire quelques requetes de visualisation</li>\n",
    "    <li class=\"fragment\" data-fragment-index=\"9\">Et faire une conclusion génerale</li>\n",
    "</ul>\n",
    "</p>\n",
    "\n"
   ]
  },
  {
   "cell_type": "markdown",
   "id": "508415ad",
   "metadata": {
    "slideshow": {
     "slide_type": "slide"
    }
   },
   "source": [
    "<h1>Importation des bibliothèques</h1>"
   ]
  },
  {
   "cell_type": "code",
   "execution_count": 171,
   "id": "546ad62b",
   "metadata": {
    "slideshow": {
     "slide_type": "fragment"
    }
   },
   "outputs": [],
   "source": [
    "import numpy as np\n",
    "import pandas as pd\n",
    "import matplotlib.pyplot as plt\n",
    "import seaborn as sns\n",
    "%matplotlib inline \n",
    "import datetime\n"
   ]
  },
  {
   "cell_type": "markdown",
   "id": "2f80e8e3",
   "metadata": {
    "slideshow": {
     "slide_type": "slide"
    }
   },
   "source": [
    "<h1>Importation du dataset</h1>"
   ]
  },
  {
   "cell_type": "code",
   "execution_count": 172,
   "id": "35db8738",
   "metadata": {
    "slideshow": {
     "slide_type": "fragment"
    }
   },
   "outputs": [],
   "source": [
    "data=\"/Users/user/Desktop/DataAnalyse/creditCardFraude/data/creditcard_fraude.csv\"\n",
    "df=pd.read_csv(data)"
   ]
  },
  {
   "cell_type": "markdown",
   "id": "5d5a0ece",
   "metadata": {
    "slideshow": {
     "slide_type": "slide"
    }
   },
   "source": [
    "<h1>Visualisation des 5 premières lignes </h1>"
   ]
  },
  {
   "cell_type": "code",
   "execution_count": 173,
   "id": "bdcc145a",
   "metadata": {
    "slideshow": {
     "slide_type": "fragment"
    }
   },
   "outputs": [
    {
     "data": {
      "text/html": [
       "<div>\n",
       "<style scoped>\n",
       "    .dataframe tbody tr th:only-of-type {\n",
       "        vertical-align: middle;\n",
       "    }\n",
       "\n",
       "    .dataframe tbody tr th {\n",
       "        vertical-align: top;\n",
       "    }\n",
       "\n",
       "    .dataframe thead th {\n",
       "        text-align: right;\n",
       "    }\n",
       "</style>\n",
       "<table border=\"1\" class=\"dataframe\">\n",
       "  <thead>\n",
       "    <tr style=\"text-align: right;\">\n",
       "      <th></th>\n",
       "      <th>trans_date_trans_time</th>\n",
       "      <th>merchant</th>\n",
       "      <th>category</th>\n",
       "      <th>amt</th>\n",
       "      <th>city</th>\n",
       "      <th>state</th>\n",
       "      <th>lat</th>\n",
       "      <th>long</th>\n",
       "      <th>city_pop</th>\n",
       "      <th>job</th>\n",
       "      <th>dob</th>\n",
       "      <th>trans_num</th>\n",
       "      <th>merch_lat</th>\n",
       "      <th>merch_long</th>\n",
       "      <th>is_fraud</th>\n",
       "    </tr>\n",
       "  </thead>\n",
       "  <tbody>\n",
       "    <tr>\n",
       "      <th>0</th>\n",
       "      <td>2019-01-01 00:00:44</td>\n",
       "      <td>\"Heller, Gutmann and Zieme\"</td>\n",
       "      <td>grocery_pos</td>\n",
       "      <td>107.23</td>\n",
       "      <td>Orient</td>\n",
       "      <td>WA</td>\n",
       "      <td>48.8878</td>\n",
       "      <td>-118.2105</td>\n",
       "      <td>149</td>\n",
       "      <td>Special educational needs teacher</td>\n",
       "      <td>1978-06-21</td>\n",
       "      <td>1f76529f8574734946361c461b024d99</td>\n",
       "      <td>49.159047</td>\n",
       "      <td>-118.186462</td>\n",
       "      <td>0</td>\n",
       "    </tr>\n",
       "    <tr>\n",
       "      <th>1</th>\n",
       "      <td>2019-01-01 00:00:51</td>\n",
       "      <td>Lind-Buckridge</td>\n",
       "      <td>entertainment</td>\n",
       "      <td>220.11</td>\n",
       "      <td>Malad City</td>\n",
       "      <td>ID</td>\n",
       "      <td>42.1808</td>\n",
       "      <td>-112.2620</td>\n",
       "      <td>4154</td>\n",
       "      <td>Nature conservation officer</td>\n",
       "      <td>1962-01-19</td>\n",
       "      <td>a1a22d70485983eac12b5b88dad1cf95</td>\n",
       "      <td>43.150704</td>\n",
       "      <td>-112.154481</td>\n",
       "      <td>0</td>\n",
       "    </tr>\n",
       "    <tr>\n",
       "      <th>2</th>\n",
       "      <td>2019-01-01 00:07:27</td>\n",
       "      <td>Kiehn Inc</td>\n",
       "      <td>grocery_pos</td>\n",
       "      <td>96.29</td>\n",
       "      <td>Grenada</td>\n",
       "      <td>CA</td>\n",
       "      <td>41.6125</td>\n",
       "      <td>-122.5258</td>\n",
       "      <td>589</td>\n",
       "      <td>Systems analyst</td>\n",
       "      <td>1945-12-21</td>\n",
       "      <td>413636e759663f264aae1819a4d4f231</td>\n",
       "      <td>41.657520</td>\n",
       "      <td>-122.230347</td>\n",
       "      <td>0</td>\n",
       "    </tr>\n",
       "    <tr>\n",
       "      <th>3</th>\n",
       "      <td>2019-01-01 00:09:03</td>\n",
       "      <td>Beier-Hyatt</td>\n",
       "      <td>shopping_pos</td>\n",
       "      <td>7.77</td>\n",
       "      <td>High Rolls Mountain Park</td>\n",
       "      <td>NM</td>\n",
       "      <td>32.9396</td>\n",
       "      <td>-105.8189</td>\n",
       "      <td>899</td>\n",
       "      <td>Naval architect</td>\n",
       "      <td>1967-08-30</td>\n",
       "      <td>8a6293af5ed278dea14448ded2685fea</td>\n",
       "      <td>32.863258</td>\n",
       "      <td>-106.520205</td>\n",
       "      <td>0</td>\n",
       "    </tr>\n",
       "    <tr>\n",
       "      <th>4</th>\n",
       "      <td>2019-01-01 00:21:32</td>\n",
       "      <td>Bruen-Yost</td>\n",
       "      <td>misc_pos</td>\n",
       "      <td>6.85</td>\n",
       "      <td>Freedom</td>\n",
       "      <td>WY</td>\n",
       "      <td>43.0172</td>\n",
       "      <td>-111.0292</td>\n",
       "      <td>471</td>\n",
       "      <td>\"Education officer, museum\"</td>\n",
       "      <td>1967-08-02</td>\n",
       "      <td>f3c43d336e92a44fc2fb67058d5949e3</td>\n",
       "      <td>43.753735</td>\n",
       "      <td>-111.454923</td>\n",
       "      <td>0</td>\n",
       "    </tr>\n",
       "  </tbody>\n",
       "</table>\n",
       "</div>"
      ],
      "text/plain": [
       "  trans_date_trans_time                     merchant       category     amt  \\\n",
       "0   2019-01-01 00:00:44  \"Heller, Gutmann and Zieme\"    grocery_pos  107.23   \n",
       "1   2019-01-01 00:00:51               Lind-Buckridge  entertainment  220.11   \n",
       "2   2019-01-01 00:07:27                    Kiehn Inc    grocery_pos   96.29   \n",
       "3   2019-01-01 00:09:03                  Beier-Hyatt   shopping_pos    7.77   \n",
       "4   2019-01-01 00:21:32                   Bruen-Yost       misc_pos    6.85   \n",
       "\n",
       "                       city state      lat      long  city_pop  \\\n",
       "0                    Orient    WA  48.8878 -118.2105       149   \n",
       "1                Malad City    ID  42.1808 -112.2620      4154   \n",
       "2                   Grenada    CA  41.6125 -122.5258       589   \n",
       "3  High Rolls Mountain Park    NM  32.9396 -105.8189       899   \n",
       "4                   Freedom    WY  43.0172 -111.0292       471   \n",
       "\n",
       "                                 job         dob  \\\n",
       "0  Special educational needs teacher  1978-06-21   \n",
       "1        Nature conservation officer  1962-01-19   \n",
       "2                    Systems analyst  1945-12-21   \n",
       "3                    Naval architect  1967-08-30   \n",
       "4        \"Education officer, museum\"  1967-08-02   \n",
       "\n",
       "                          trans_num  merch_lat  merch_long  is_fraud  \n",
       "0  1f76529f8574734946361c461b024d99  49.159047 -118.186462         0  \n",
       "1  a1a22d70485983eac12b5b88dad1cf95  43.150704 -112.154481         0  \n",
       "2  413636e759663f264aae1819a4d4f231  41.657520 -122.230347         0  \n",
       "3  8a6293af5ed278dea14448ded2685fea  32.863258 -106.520205         0  \n",
       "4  f3c43d336e92a44fc2fb67058d5949e3  43.753735 -111.454923         0  "
      ]
     },
     "execution_count": 173,
     "metadata": {},
     "output_type": "execute_result"
    }
   ],
   "source": [
    "df.head()"
   ]
  },
  {
   "cell_type": "markdown",
   "id": "dc513693",
   "metadata": {
    "slideshow": {
     "slide_type": "slide"
    }
   },
   "source": [
    "<h1>Visualisation de la structure du dataset</h1>"
   ]
  },
  {
   "cell_type": "code",
   "execution_count": 174,
   "id": "ec106e7e",
   "metadata": {
    "slideshow": {
     "slide_type": "fragment"
    }
   },
   "outputs": [
    {
     "name": "stdout",
     "output_type": "stream",
     "text": [
      "<class 'pandas.core.frame.DataFrame'>\n",
      "RangeIndex: 1333 entries, 0 to 1332\n",
      "Data columns (total 15 columns):\n",
      " #   Column                 Non-Null Count  Dtype  \n",
      "---  ------                 --------------  -----  \n",
      " 0   trans_date_trans_time  1333 non-null   object \n",
      " 1   merchant               1333 non-null   object \n",
      " 2   category               1333 non-null   object \n",
      " 3   amt                    1333 non-null   float64\n",
      " 4   city                   1333 non-null   object \n",
      " 5   state                  1333 non-null   object \n",
      " 6   lat                    1333 non-null   float64\n",
      " 7   long                   1333 non-null   float64\n",
      " 8   city_pop               1333 non-null   int64  \n",
      " 9   job                    1333 non-null   object \n",
      " 10  dob                    1333 non-null   object \n",
      " 11  trans_num              1333 non-null   object \n",
      " 12  merch_lat              1333 non-null   float64\n",
      " 13  merch_long             1333 non-null   float64\n",
      " 14  is_fraud               1333 non-null   int64  \n",
      "dtypes: float64(5), int64(2), object(8)\n",
      "memory usage: 156.3+ KB\n"
     ]
    }
   ],
   "source": [
    "df.info()"
   ]
  },
  {
   "cell_type": "markdown",
   "id": "2a5fc7c8",
   "metadata": {
    "slideshow": {
     "slide_type": "slide"
    }
   },
   "source": [
    "## Dictionnaire de données \n",
    "\n",
    "| transdatetrans_time | Transaction DateTime                        |\n",
    "|---------------------|---------------------------------------------|\n",
    "| merchant            | Merchant Name                               |\n",
    "| category            | Category of Merchant                        |\n",
    "| amt                 | Amount of Transaction                       |\n",
    "| city                | City of Credit Card Holder                  |\n",
    "| state               | State of Credit Card Holder                 |\n",
    "| lat                 | Latitude Location of Purchase               |\n",
    "| long                | Longitude Location of Purchase              |\n",
    "| city_pop            | Credit Card Holder's City Population        |\n",
    "| job                 | Job of Credit Card Holder                   |\n",
    "| dob                 | Date of Birth of Credit Card Holder         |\n",
    "| trans_num           | Transaction Number                          |\n",
    "| merch_lat           | Latitude Location of Merchant               |\n",
    "| merch_long          | Longitude Location of Merchant              |\n",
    "| is_fraud            | Whether Transaction is Fraud (1) or Not (0) |"
   ]
  },
  {
   "cell_type": "markdown",
   "id": "2c4ee794",
   "metadata": {
    "slideshow": {
     "slide_type": "slide"
    }
   },
   "source": [
    "<h3>Convertion du type objet de la date de naissance en type date, et calcul de l'âge mis dans une nouvelle collone nommée âge</h3>"
   ]
  },
  {
   "cell_type": "code",
   "execution_count": 175,
   "id": "ceaf29e9",
   "metadata": {
    "slideshow": {
     "slide_type": "fragment"
    }
   },
   "outputs": [
    {
     "name": "stdout",
     "output_type": "stream",
     "text": [
      "<class 'pandas.core.frame.DataFrame'>\n",
      "RangeIndex: 1333 entries, 0 to 1332\n",
      "Data columns (total 16 columns):\n",
      " #   Column                 Non-Null Count  Dtype         \n",
      "---  ------                 --------------  -----         \n",
      " 0   trans_date_trans_time  1333 non-null   object        \n",
      " 1   merchant               1333 non-null   object        \n",
      " 2   category               1333 non-null   object        \n",
      " 3   amt                    1333 non-null   float64       \n",
      " 4   city                   1333 non-null   object        \n",
      " 5   state                  1333 non-null   object        \n",
      " 6   lat                    1333 non-null   float64       \n",
      " 7   long                   1333 non-null   float64       \n",
      " 8   city_pop               1333 non-null   int64         \n",
      " 9   job                    1333 non-null   object        \n",
      " 10  dob                    1333 non-null   datetime64[ns]\n",
      " 11  trans_num              1333 non-null   object        \n",
      " 12  merch_lat              1333 non-null   float64       \n",
      " 13  merch_long             1333 non-null   float64       \n",
      " 14  is_fraud               1333 non-null   int64         \n",
      " 15  age                    1333 non-null   int64         \n",
      "dtypes: datetime64[ns](1), float64(5), int64(3), object(7)\n",
      "memory usage: 166.8+ KB\n"
     ]
    }
   ],
   "source": [
    "df[\"dob\"] = pd.to_datetime(df[\"dob\"])\n",
    "today = datetime.datetime.now()\n",
    "df[\"age\"] = today.year - df[\"dob\"].dt.year\n",
    "df.info()"
   ]
  },
  {
   "cell_type": "markdown",
   "id": "038696de",
   "metadata": {
    "slideshow": {
     "slide_type": "slide"
    }
   },
   "source": [
    "<h1>Description statistique</h1>"
   ]
  },
  {
   "cell_type": "code",
   "execution_count": 176,
   "id": "378b733d",
   "metadata": {
    "slideshow": {
     "slide_type": "fragment"
    }
   },
   "outputs": [
    {
     "data": {
      "text/html": [
       "<div>\n",
       "<style scoped>\n",
       "    .dataframe tbody tr th:only-of-type {\n",
       "        vertical-align: middle;\n",
       "    }\n",
       "\n",
       "    .dataframe tbody tr th {\n",
       "        vertical-align: top;\n",
       "    }\n",
       "\n",
       "    .dataframe thead th {\n",
       "        text-align: right;\n",
       "    }\n",
       "</style>\n",
       "<table border=\"1\" class=\"dataframe\">\n",
       "  <thead>\n",
       "    <tr style=\"text-align: right;\">\n",
       "      <th></th>\n",
       "      <th>amt</th>\n",
       "      <th>lat</th>\n",
       "      <th>long</th>\n",
       "      <th>city_pop</th>\n",
       "      <th>merch_lat</th>\n",
       "      <th>merch_long</th>\n",
       "      <th>is_fraud</th>\n",
       "      <th>age</th>\n",
       "    </tr>\n",
       "  </thead>\n",
       "  <tbody>\n",
       "    <tr>\n",
       "      <th>count</th>\n",
       "      <td>1333.000000</td>\n",
       "      <td>1333.000000</td>\n",
       "      <td>1333.000000</td>\n",
       "      <td>1.333000e+03</td>\n",
       "      <td>1333.000000</td>\n",
       "      <td>1333.000000</td>\n",
       "      <td>1333.000000</td>\n",
       "      <td>1333.000000</td>\n",
       "    </tr>\n",
       "    <tr>\n",
       "      <th>mean</th>\n",
       "      <td>69.162273</td>\n",
       "      <td>39.869987</td>\n",
       "      <td>-111.438044</td>\n",
       "      <td>9.601609e+04</td>\n",
       "      <td>39.861073</td>\n",
       "      <td>-111.438674</td>\n",
       "      <td>0.006002</td>\n",
       "      <td>52.234059</td>\n",
       "    </tr>\n",
       "    <tr>\n",
       "      <th>std</th>\n",
       "      <td>125.879021</td>\n",
       "      <td>5.694163</td>\n",
       "      <td>13.698908</td>\n",
       "      <td>2.625325e+05</td>\n",
       "      <td>5.725748</td>\n",
       "      <td>13.712197</td>\n",
       "      <td>0.077266</td>\n",
       "      <td>16.665968</td>\n",
       "    </tr>\n",
       "    <tr>\n",
       "      <th>min</th>\n",
       "      <td>1.050000</td>\n",
       "      <td>20.027100</td>\n",
       "      <td>-165.672300</td>\n",
       "      <td>4.600000e+01</td>\n",
       "      <td>19.165823</td>\n",
       "      <td>-166.288628</td>\n",
       "      <td>0.000000</td>\n",
       "      <td>22.000000</td>\n",
       "    </tr>\n",
       "    <tr>\n",
       "      <th>25%</th>\n",
       "      <td>9.860000</td>\n",
       "      <td>36.715400</td>\n",
       "      <td>-120.664900</td>\n",
       "      <td>4.670000e+02</td>\n",
       "      <td>36.878200</td>\n",
       "      <td>-120.493701</td>\n",
       "      <td>0.000000</td>\n",
       "      <td>39.000000</td>\n",
       "    </tr>\n",
       "    <tr>\n",
       "      <th>50%</th>\n",
       "      <td>49.740000</td>\n",
       "      <td>39.741700</td>\n",
       "      <td>-111.794100</td>\n",
       "      <td>1.517000e+03</td>\n",
       "      <td>39.636295</td>\n",
       "      <td>-111.367562</td>\n",
       "      <td>0.000000</td>\n",
       "      <td>49.000000</td>\n",
       "    </tr>\n",
       "    <tr>\n",
       "      <th>75%</th>\n",
       "      <td>84.430000</td>\n",
       "      <td>42.277000</td>\n",
       "      <td>-101.136000</td>\n",
       "      <td>3.488200e+04</td>\n",
       "      <td>42.374139</td>\n",
       "      <td>-101.445631</td>\n",
       "      <td>0.000000</td>\n",
       "      <td>62.000000</td>\n",
       "    </tr>\n",
       "    <tr>\n",
       "      <th>max</th>\n",
       "      <td>3178.510000</td>\n",
       "      <td>65.689900</td>\n",
       "      <td>-89.628700</td>\n",
       "      <td>1.312922e+06</td>\n",
       "      <td>66.645176</td>\n",
       "      <td>-89.015733</td>\n",
       "      <td>1.000000</td>\n",
       "      <td>96.000000</td>\n",
       "    </tr>\n",
       "  </tbody>\n",
       "</table>\n",
       "</div>"
      ],
      "text/plain": [
       "               amt          lat         long      city_pop    merch_lat  \\\n",
       "count  1333.000000  1333.000000  1333.000000  1.333000e+03  1333.000000   \n",
       "mean     69.162273    39.869987  -111.438044  9.601609e+04    39.861073   \n",
       "std     125.879021     5.694163    13.698908  2.625325e+05     5.725748   \n",
       "min       1.050000    20.027100  -165.672300  4.600000e+01    19.165823   \n",
       "25%       9.860000    36.715400  -120.664900  4.670000e+02    36.878200   \n",
       "50%      49.740000    39.741700  -111.794100  1.517000e+03    39.636295   \n",
       "75%      84.430000    42.277000  -101.136000  3.488200e+04    42.374139   \n",
       "max    3178.510000    65.689900   -89.628700  1.312922e+06    66.645176   \n",
       "\n",
       "        merch_long     is_fraud          age  \n",
       "count  1333.000000  1333.000000  1333.000000  \n",
       "mean   -111.438674     0.006002    52.234059  \n",
       "std      13.712197     0.077266    16.665968  \n",
       "min    -166.288628     0.000000    22.000000  \n",
       "25%    -120.493701     0.000000    39.000000  \n",
       "50%    -111.367562     0.000000    49.000000  \n",
       "75%    -101.445631     0.000000    62.000000  \n",
       "max     -89.015733     1.000000    96.000000  "
      ]
     },
     "execution_count": 176,
     "metadata": {},
     "output_type": "execute_result"
    }
   ],
   "source": [
    "df.describe()"
   ]
  },
  {
   "cell_type": "markdown",
   "id": "e1c351d6",
   "metadata": {
    "slideshow": {
     "slide_type": "slide"
    }
   },
   "source": [
    "<h1>Quels sont les collones où il y'a des valeurs NaN</h1>"
   ]
  },
  {
   "cell_type": "code",
   "execution_count": 177,
   "id": "48e55dbf",
   "metadata": {
    "slideshow": {
     "slide_type": "fragment"
    }
   },
   "outputs": [
    {
     "data": {
      "text/plain": [
       "trans_date_trans_time    0\n",
       "merchant                 0\n",
       "category                 0\n",
       "amt                      0\n",
       "city                     0\n",
       "state                    0\n",
       "lat                      0\n",
       "long                     0\n",
       "city_pop                 0\n",
       "job                      0\n",
       "dob                      0\n",
       "trans_num                0\n",
       "merch_lat                0\n",
       "merch_long               0\n",
       "is_fraud                 0\n",
       "age                      0\n",
       "dtype: int64"
      ]
     },
     "execution_count": 177,
     "metadata": {},
     "output_type": "execute_result"
    }
   ],
   "source": [
    "df.isna().sum()"
   ]
  },
  {
   "cell_type": "markdown",
   "id": "ca55c5eb",
   "metadata": {
    "slideshow": {
     "slide_type": "slide"
    }
   },
   "source": [
    "<h1>Quels sont les cas de fraudes et de non fraudes</h1>"
   ]
  },
  {
   "cell_type": "code",
   "execution_count": 178,
   "id": "3ec7480f",
   "metadata": {
    "slideshow": {
     "slide_type": "fragment"
    }
   },
   "outputs": [
    {
     "data": {
      "text/plain": [
       "0    1325\n",
       "1       8\n",
       "Name: is_fraud, dtype: int64"
      ]
     },
     "execution_count": 178,
     "metadata": {},
     "output_type": "execute_result"
    }
   ],
   "source": [
    "df.is_fraud.value_counts()"
   ]
  },
  {
   "cell_type": "markdown",
   "id": "dc1f1560",
   "metadata": {
    "slideshow": {
     "slide_type": "slide"
    }
   },
   "source": [
    "<h1>Graphe des cas de fraudes et de non fraudes</h1>"
   ]
  },
  {
   "cell_type": "code",
   "execution_count": 179,
   "id": "36284d5e",
   "metadata": {
    "slideshow": {
     "slide_type": "fragment"
    }
   },
   "outputs": [
    {
     "data": {
      "image/png": "[encoded data removed]",
      "text/plain": [
       "<Figure size 1300x600 with 1 Axes>"
      ]
     },
     "metadata": {},
     "output_type": "display_data"
    }
   ],
   "source": [
    "plt.figure(figsize=(13,6))\n",
    "fraude=df['is_fraud'][df['is_fraud']== 1].count()\n",
    "nonFraude=df['is_fraud'][df['is_fraud']== 0].count()\n",
    "data=[fraude,nonFraude]\n",
    "label=['Fraude','Non fraude']\n",
    "color= sns.color_palette('Set1')\n",
    "plt.pie(data,labels=label,colors=color,autopct='%.0f%%')\n",
    "plt.show()"
   ]
  },
  {
   "cell_type": "markdown",
   "id": "eea56334",
   "metadata": {
    "slideshow": {
     "slide_type": "slide"
    }
   },
   "source": [
    "<h1>Graphe du nombre de propriétaire des cartes dans les différents Etats</h1>"
   ]
  },
  {
   "cell_type": "code",
   "execution_count": 180,
   "id": "4ca24465",
   "metadata": {
    "slideshow": {
     "slide_type": "fragment"
    }
   },
   "outputs": [
    {
     "data": {
      "text/plain": [
       "<AxesSubplot:xlabel='state'>"
      ]
     },
     "execution_count": 180,
     "metadata": {},
     "output_type": "execute_result"
    },
    {
     "data": {
      "image/png": "[encoded data removed]",
      "text/plain": [
       "<Figure size 1200x600 with 1 Axes>"
      ]
     },
     "metadata": {},
     "output_type": "display_data"
    }
   ],
   "source": [
    "etat = df.groupby('state').size().sort_values(ascending=False)\n",
    "etat.head(10).plot(kind='bar',figsize=(12,6),color=sns.color_palette(\"magma\"))"
   ]
  },
  {
   "cell_type": "markdown",
   "id": "b7492058",
   "metadata": {
    "slideshow": {
     "slide_type": "slide"
    }
   },
   "source": [
    "<h1>Graphe des jobs qui sont les plus nombreux dans le dataset</h1>"
   ]
  },
  {
   "cell_type": "code",
   "execution_count": 181,
   "id": "288fa797",
   "metadata": {
    "slideshow": {
     "slide_type": "fragment"
    }
   },
   "outputs": [
    {
     "data": {
      "text/plain": [
       "<AxesSubplot:>"
      ]
     },
     "execution_count": 181,
     "metadata": {},
     "output_type": "execute_result"
    },
    {
     "data": {
      "image/png": "[encoded data removed]",
      "text/plain": [
       "<Figure size 640x480 with 1 Axes>"
      ]
     },
     "metadata": {},
     "output_type": "display_data"
    }
   ],
   "source": [
    "df['job'].value_counts().nlargest(10).plot(kind='barh', color=sns.color_palette(\"viridis\"))"
   ]
  },
  {
   "cell_type": "markdown",
   "id": "a9f7dcc1",
   "metadata": {
    "slideshow": {
     "slide_type": "slide"
    }
   },
   "source": [
    "<h1>Graphe des jobs qui sont les moins nombreux dans le dataset</h1>"
   ]
  },
  {
   "cell_type": "code",
   "execution_count": 182,
   "id": "9ea457e6",
   "metadata": {
    "slideshow": {
     "slide_type": "fragment"
    }
   },
   "outputs": [
    {
     "data": {
      "text/plain": [
       "<AxesSubplot:>"
      ]
     },
     "execution_count": 182,
     "metadata": {},
     "output_type": "execute_result"
    },
    {
     "data": {
      "image/png": "[encoded data removed]",
      "text/plain": [
       "<Figure size 640x480 with 1 Axes>"
      ]
     },
     "metadata": {},
     "output_type": "display_data"
    }
   ],
   "source": [
    "df['job'].value_counts().nsmallest(10).plot(kind='barh', color=sns.color_palette(\"viridis\"))"
   ]
  },
  {
   "cell_type": "markdown",
   "id": "d0c717dc",
   "metadata": {
    "slideshow": {
     "slide_type": "slide"
    }
   },
   "source": [
    "<h1>Graphe des âges</h1>"
   ]
  },
  {
   "cell_type": "code",
   "execution_count": 183,
   "id": "09ba4c90",
   "metadata": {
    "slideshow": {
     "slide_type": "fragment"
    }
   },
   "outputs": [
    {
     "data": {
      "image/png": "[encoded data removed]",
      "text/plain": [
       "<Figure size 640x480 with 1 Axes>"
      ]
     },
     "metadata": {},
     "output_type": "display_data"
    }
   ],
   "source": [
    "age20_25 =  df[ (df['age'] >20) & (df['age'] <=45) ]\n",
    "age25_30 = df[ (df['age'] >45) & (df['age'] <=60) ]\n",
    "above30 = df[df['age'] >60]\n",
    "\n",
    "x= np.array([age20_25['trans_date_trans_time'].count(),age25_30['trans_date_trans_time'].count(),above30['trans_date_trans_time'].count()])\n",
    "myLabels=[\">20 & <=45\", \">45 & <=60\", \">60\"]\n",
    "plt.title(\"Age des proprietaires des cartes \")\n",
    "plt.pie(x,labels=myLabels,autopct=\"%.1f%%\")\n",
    "plt.show()"
   ]
  },
  {
   "cell_type": "markdown",
   "id": "fad5c070",
   "metadata": {
    "slideshow": {
     "slide_type": "slide"
    }
   },
   "source": [
    "## Graphe de réprésentation de 20 ans à 45 ans dans les différents Etats"
   ]
  },
  {
   "cell_type": "code",
   "execution_count": 184,
   "id": "8a4893c3",
   "metadata": {
    "slideshow": {
     "slide_type": "fragment"
    }
   },
   "outputs": [
    {
     "data": {
      "text/plain": [
       "<AxesSubplot:>"
      ]
     },
     "execution_count": 184,
     "metadata": {},
     "output_type": "execute_result"
    },
    {
     "data": {
      "image/png": "[encoded data removed]",
      "text/plain": [
       "<Figure size 640x480 with 1 Axes>"
      ]
     },
     "metadata": {},
     "output_type": "display_data"
    }
   ],
   "source": [
    "proprio_20 = df[ (df['age'] >= 20) & (df['age'] <= 45) ]\n",
    "proprio_20['state'].value_counts().plot(kind='barh',color=sns.color_palette(\"cubehelix\"))"
   ]
  },
  {
   "cell_type": "markdown",
   "id": "41a1d631",
   "metadata": {
    "slideshow": {
     "slide_type": "slide"
    }
   },
   "source": [
    "## Graphe de réprésentation de plus de 45 ans à 60 ans dans les différents Etats"
   ]
  },
  {
   "cell_type": "code",
   "execution_count": 185,
   "id": "3e16e8e8",
   "metadata": {
    "slideshow": {
     "slide_type": "fragment"
    }
   },
   "outputs": [
    {
     "data": {
      "text/plain": [
       "<AxesSubplot:>"
      ]
     },
     "execution_count": 185,
     "metadata": {},
     "output_type": "execute_result"
    },
    {
     "data": {
      "image/png": "[encoded data removed]",
      "text/plain": [
       "<Figure size 640x480 with 1 Axes>"
      ]
     },
     "metadata": {},
     "output_type": "display_data"
    }
   ],
   "source": [
    "proprio_45 = df[ (df['age'] > 45) & (df['age'] <= 60) ]\n",
    "proprio_45['state'].value_counts().plot(kind='barh',color=sns.color_palette(\"cubehelix\"))"
   ]
  },
  {
   "cell_type": "markdown",
   "id": "cc2e8ce5",
   "metadata": {
    "slideshow": {
     "slide_type": "slide"
    }
   },
   "source": [
    "## Graphe de réprésentation des plus de 60 ans dans les différents Etats"
   ]
  },
  {
   "cell_type": "code",
   "execution_count": 186,
   "id": "eccea60d",
   "metadata": {
    "slideshow": {
     "slide_type": "fragment"
    }
   },
   "outputs": [
    {
     "data": {
      "text/plain": [
       "<AxesSubplot:>"
      ]
     },
     "execution_count": 186,
     "metadata": {},
     "output_type": "execute_result"
    },
    {
     "data": {
      "image/png": "[encoded data removed]",
      "text/plain": [
       "<Figure size 640x480 with 1 Axes>"
      ]
     },
     "metadata": {},
     "output_type": "display_data"
    }
   ],
   "source": [
    "proprio_60 = df[df['age'] >60]\n",
    "proprio_60['state'].value_counts().plot(kind='barh',color=sns.color_palette(\"cubehelix\"))"
   ]
  },
  {
   "cell_type": "markdown",
   "id": "de402d3b",
   "metadata": {
    "slideshow": {
     "slide_type": "slide"
    }
   },
   "source": [
    "## Vérifions les cartes de quelle tranche d'âge ont fait des cas de fraudes "
   ]
  },
  {
   "cell_type": "code",
   "execution_count": 187,
   "id": "7738e43b",
   "metadata": {
    "slideshow": {
     "slide_type": "fragment"
    }
   },
   "outputs": [
    {
     "data": {
      "text/html": [
       "<div>\n",
       "<style scoped>\n",
       "    .dataframe tbody tr th:only-of-type {\n",
       "        vertical-align: middle;\n",
       "    }\n",
       "\n",
       "    .dataframe tbody tr th {\n",
       "        vertical-align: top;\n",
       "    }\n",
       "\n",
       "    .dataframe thead th {\n",
       "        text-align: right;\n",
       "    }\n",
       "</style>\n",
       "<table border=\"1\" class=\"dataframe\">\n",
       "  <thead>\n",
       "    <tr style=\"text-align: right;\">\n",
       "      <th></th>\n",
       "      <th>trans_date_trans_time</th>\n",
       "      <th>merchant</th>\n",
       "      <th>category</th>\n",
       "      <th>amt</th>\n",
       "      <th>city</th>\n",
       "      <th>state</th>\n",
       "      <th>lat</th>\n",
       "      <th>long</th>\n",
       "      <th>city_pop</th>\n",
       "      <th>job</th>\n",
       "      <th>dob</th>\n",
       "      <th>trans_num</th>\n",
       "      <th>merch_lat</th>\n",
       "      <th>merch_long</th>\n",
       "      <th>is_fraud</th>\n",
       "      <th>age</th>\n",
       "    </tr>\n",
       "  </thead>\n",
       "  <tbody>\n",
       "    <tr>\n",
       "      <th>945</th>\n",
       "      <td>2019-01-04 00:58:03</td>\n",
       "      <td>\"Stokes, Christiansen and Sipes\"</td>\n",
       "      <td>grocery_net</td>\n",
       "      <td>14.37</td>\n",
       "      <td>Wales</td>\n",
       "      <td>AK</td>\n",
       "      <td>64.7556</td>\n",
       "      <td>-165.6723</td>\n",
       "      <td>145</td>\n",
       "      <td>\"Administrator, education\"</td>\n",
       "      <td>1939-11-09</td>\n",
       "      <td>a3806e984cec6ac0096d8184c64ad3a1</td>\n",
       "      <td>65.654142</td>\n",
       "      <td>-164.722603</td>\n",
       "      <td>1</td>\n",
       "      <td>84</td>\n",
       "    </tr>\n",
       "    <tr>\n",
       "      <th>1077</th>\n",
       "      <td>2019-01-04 15:06:38</td>\n",
       "      <td>Predovic Inc</td>\n",
       "      <td>shopping_net</td>\n",
       "      <td>966.11</td>\n",
       "      <td>Wales</td>\n",
       "      <td>AK</td>\n",
       "      <td>64.7556</td>\n",
       "      <td>-165.6723</td>\n",
       "      <td>145</td>\n",
       "      <td>\"Administrator, education\"</td>\n",
       "      <td>1939-11-09</td>\n",
       "      <td>a59185fe1b9ccf21323f581d7477573f</td>\n",
       "      <td>65.468863</td>\n",
       "      <td>-165.473127</td>\n",
       "      <td>1</td>\n",
       "      <td>84</td>\n",
       "    </tr>\n",
       "    <tr>\n",
       "      <th>1184</th>\n",
       "      <td>2019-01-04 22:37:04</td>\n",
       "      <td>Wisozk and Sons</td>\n",
       "      <td>misc_pos</td>\n",
       "      <td>49.61</td>\n",
       "      <td>Wales</td>\n",
       "      <td>AK</td>\n",
       "      <td>64.7556</td>\n",
       "      <td>-165.6723</td>\n",
       "      <td>145</td>\n",
       "      <td>\"Administrator, education\"</td>\n",
       "      <td>1939-11-09</td>\n",
       "      <td>86ba3a888b42cd3925881fa34177b4e0</td>\n",
       "      <td>65.347667</td>\n",
       "      <td>-165.914542</td>\n",
       "      <td>1</td>\n",
       "      <td>84</td>\n",
       "    </tr>\n",
       "    <tr>\n",
       "      <th>1192</th>\n",
       "      <td>2019-01-04 23:06:28</td>\n",
       "      <td>Murray-Smitham</td>\n",
       "      <td>grocery_pos</td>\n",
       "      <td>295.26</td>\n",
       "      <td>Wales</td>\n",
       "      <td>AK</td>\n",
       "      <td>64.7556</td>\n",
       "      <td>-165.6723</td>\n",
       "      <td>145</td>\n",
       "      <td>\"Administrator, education\"</td>\n",
       "      <td>1939-11-09</td>\n",
       "      <td>3a068fe1d856f0ecedbed33e4b5f4496</td>\n",
       "      <td>64.445035</td>\n",
       "      <td>-166.080207</td>\n",
       "      <td>1</td>\n",
       "      <td>84</td>\n",
       "    </tr>\n",
       "    <tr>\n",
       "      <th>1202</th>\n",
       "      <td>2019-01-04 23:59:09</td>\n",
       "      <td>Friesen Lt</td>\n",
       "      <td>health_fitness</td>\n",
       "      <td>18.17</td>\n",
       "      <td>Wales</td>\n",
       "      <td>AK</td>\n",
       "      <td>64.7556</td>\n",
       "      <td>-165.6723</td>\n",
       "      <td>145</td>\n",
       "      <td>\"Administrator, education\"</td>\n",
       "      <td>1939-11-09</td>\n",
       "      <td>891cdd1191028759dc20dc224347a0ff</td>\n",
       "      <td>65.447094</td>\n",
       "      <td>-165.446843</td>\n",
       "      <td>1</td>\n",
       "      <td>84</td>\n",
       "    </tr>\n",
       "    <tr>\n",
       "      <th>1236</th>\n",
       "      <td>2019-01-05 03:15:35</td>\n",
       "      <td>\"Raynor, Reinger and Hagenes\"</td>\n",
       "      <td>gas_transport</td>\n",
       "      <td>20.45</td>\n",
       "      <td>Wales</td>\n",
       "      <td>AK</td>\n",
       "      <td>64.7556</td>\n",
       "      <td>-165.6723</td>\n",
       "      <td>145</td>\n",
       "      <td>\"Administrator, education\"</td>\n",
       "      <td>1939-11-09</td>\n",
       "      <td>ef010a5f4f570d306a050a368ee2729d</td>\n",
       "      <td>64.088838</td>\n",
       "      <td>-165.104078</td>\n",
       "      <td>1</td>\n",
       "      <td>84</td>\n",
       "    </tr>\n",
       "    <tr>\n",
       "      <th>1239</th>\n",
       "      <td>2019-01-05 03:21:29</td>\n",
       "      <td>Heller-Langosh</td>\n",
       "      <td>gas_transport</td>\n",
       "      <td>18.19</td>\n",
       "      <td>Wales</td>\n",
       "      <td>AK</td>\n",
       "      <td>64.7556</td>\n",
       "      <td>-165.6723</td>\n",
       "      <td>145</td>\n",
       "      <td>\"Administrator, education\"</td>\n",
       "      <td>1939-11-09</td>\n",
       "      <td>8e2d2fae5319d31c887dddbc70627ac4</td>\n",
       "      <td>63.917785</td>\n",
       "      <td>-165.827621</td>\n",
       "      <td>1</td>\n",
       "      <td>84</td>\n",
       "    </tr>\n",
       "    <tr>\n",
       "      <th>1322</th>\n",
       "      <td>2019-01-05 11:31:23</td>\n",
       "      <td>Padberg-Welch</td>\n",
       "      <td>grocery_pos</td>\n",
       "      <td>367.29</td>\n",
       "      <td>Browning</td>\n",
       "      <td>MO</td>\n",
       "      <td>40.0290</td>\n",
       "      <td>-93.1607</td>\n",
       "      <td>602</td>\n",
       "      <td>Cytogeneticist</td>\n",
       "      <td>1954-07-14</td>\n",
       "      <td>5fbe827807ec9f557f6242bb48db0e51</td>\n",
       "      <td>39.167065</td>\n",
       "      <td>-93.705245</td>\n",
       "      <td>1</td>\n",
       "      <td>69</td>\n",
       "    </tr>\n",
       "  </tbody>\n",
       "</table>\n",
       "</div>"
      ],
      "text/plain": [
       "     trans_date_trans_time                          merchant        category  \\\n",
       "945    2019-01-04 00:58:03  \"Stokes, Christiansen and Sipes\"     grocery_net   \n",
       "1077   2019-01-04 15:06:38                      Predovic Inc    shopping_net   \n",
       "1184   2019-01-04 22:37:04                   Wisozk and Sons        misc_pos   \n",
       "1192   2019-01-04 23:06:28                    Murray-Smitham     grocery_pos   \n",
       "1202   2019-01-04 23:59:09                        Friesen Lt  health_fitness   \n",
       "1236   2019-01-05 03:15:35     \"Raynor, Reinger and Hagenes\"   gas_transport   \n",
       "1239   2019-01-05 03:21:29                    Heller-Langosh   gas_transport   \n",
       "1322   2019-01-05 11:31:23                     Padberg-Welch     grocery_pos   \n",
       "\n",
       "         amt      city state      lat      long  city_pop  \\\n",
       "945    14.37     Wales    AK  64.7556 -165.6723       145   \n",
       "1077  966.11     Wales    AK  64.7556 -165.6723       145   \n",
       "1184   49.61     Wales    AK  64.7556 -165.6723       145   \n",
       "1192  295.26     Wales    AK  64.7556 -165.6723       145   \n",
       "1202   18.17     Wales    AK  64.7556 -165.6723       145   \n",
       "1236   20.45     Wales    AK  64.7556 -165.6723       145   \n",
       "1239   18.19     Wales    AK  64.7556 -165.6723       145   \n",
       "1322  367.29  Browning    MO  40.0290  -93.1607       602   \n",
       "\n",
       "                             job        dob                         trans_num  \\\n",
       "945   \"Administrator, education\" 1939-11-09  a3806e984cec6ac0096d8184c64ad3a1   \n",
       "1077  \"Administrator, education\" 1939-11-09  a59185fe1b9ccf21323f581d7477573f   \n",
       "1184  \"Administrator, education\" 1939-11-09  86ba3a888b42cd3925881fa34177b4e0   \n",
       "1192  \"Administrator, education\" 1939-11-09  3a068fe1d856f0ecedbed33e4b5f4496   \n",
       "1202  \"Administrator, education\" 1939-11-09  891cdd1191028759dc20dc224347a0ff   \n",
       "1236  \"Administrator, education\" 1939-11-09  ef010a5f4f570d306a050a368ee2729d   \n",
       "1239  \"Administrator, education\" 1939-11-09  8e2d2fae5319d31c887dddbc70627ac4   \n",
       "1322              Cytogeneticist 1954-07-14  5fbe827807ec9f557f6242bb48db0e51   \n",
       "\n",
       "      merch_lat  merch_long  is_fraud  age  \n",
       "945   65.654142 -164.722603         1   84  \n",
       "1077  65.468863 -165.473127         1   84  \n",
       "1184  65.347667 -165.914542         1   84  \n",
       "1192  64.445035 -166.080207         1   84  \n",
       "1202  65.447094 -165.446843         1   84  \n",
       "1236  64.088838 -165.104078         1   84  \n",
       "1239  63.917785 -165.827621         1   84  \n",
       "1322  39.167065  -93.705245         1   69  "
      ]
     },
     "execution_count": 187,
     "metadata": {},
     "output_type": "execute_result"
    }
   ],
   "source": [
    "proprio_60[proprio_60['is_fraud']==1]"
   ]
  },
  {
   "cell_type": "markdown",
   "id": "cd7c9121",
   "metadata": {
    "slideshow": {
     "slide_type": "slide"
    }
   },
   "source": [
    "## Graphe sur les montants de toutes les dépenses"
   ]
  },
  {
   "cell_type": "code",
   "execution_count": 188,
   "id": "c036e259",
   "metadata": {
    "slideshow": {
     "slide_type": "fragment"
    }
   },
   "outputs": [
    {
     "data": {
      "image/png": "[encoded data removed]",
      "text/plain": [
       "<Figure size 640x480 with 1 Axes>"
      ]
     },
     "metadata": {},
     "output_type": "display_data"
    }
   ],
   "source": [
    "montant_plus_1 =  df[ (df['amt'] > 0) & (df['amt'] <=100) ]\n",
    "montant_plus_2 = df[ (df['amt'] >100) & (df['amt'] <=200)]\n",
    "montant_plus_3 = df[ (df['amt'] >200)]\n",
    "x= np.array([montant_plus_1['trans_date_trans_time'].count(),montant_plus_2['trans_date_trans_time'].count(),montant_plus_3['trans_date_trans_time'].count(),])\n",
    "myLabels=[\"<=100\", \">100 & <=200\",\">200\"]\n",
    "plt.title(\"Total des montants depenses sur chaque achats par les proprietaires des cartes \")\n",
    "plt.pie(x,labels=myLabels,autopct=\"%.1f%%\")\n",
    "plt.show()"
   ]
  },
  {
   "cell_type": "markdown",
   "id": "f6686128",
   "metadata": {
    "slideshow": {
     "slide_type": "slide"
    }
   },
   "source": [
    "## Montant des dépenses frauduleuses supérieur à 250 USD"
   ]
  },
  {
   "cell_type": "code",
   "execution_count": 189,
   "id": "2e62350d",
   "metadata": {
    "slideshow": {
     "slide_type": "fragment"
    }
   },
   "outputs": [
    {
     "data": {
      "text/html": [
       "<div>\n",
       "<style scoped>\n",
       "    .dataframe tbody tr th:only-of-type {\n",
       "        vertical-align: middle;\n",
       "    }\n",
       "\n",
       "    .dataframe tbody tr th {\n",
       "        vertical-align: top;\n",
       "    }\n",
       "\n",
       "    .dataframe thead th {\n",
       "        text-align: right;\n",
       "    }\n",
       "</style>\n",
       "<table border=\"1\" class=\"dataframe\">\n",
       "  <thead>\n",
       "    <tr style=\"text-align: right;\">\n",
       "      <th></th>\n",
       "      <th>trans_date_trans_time</th>\n",
       "      <th>merchant</th>\n",
       "      <th>category</th>\n",
       "      <th>amt</th>\n",
       "      <th>city</th>\n",
       "      <th>state</th>\n",
       "      <th>lat</th>\n",
       "      <th>long</th>\n",
       "      <th>city_pop</th>\n",
       "      <th>job</th>\n",
       "      <th>dob</th>\n",
       "      <th>trans_num</th>\n",
       "      <th>merch_lat</th>\n",
       "      <th>merch_long</th>\n",
       "      <th>is_fraud</th>\n",
       "      <th>age</th>\n",
       "    </tr>\n",
       "  </thead>\n",
       "  <tbody>\n",
       "    <tr>\n",
       "      <th>1077</th>\n",
       "      <td>2019-01-04 15:06:38</td>\n",
       "      <td>Predovic Inc</td>\n",
       "      <td>shopping_net</td>\n",
       "      <td>966.11</td>\n",
       "      <td>Wales</td>\n",
       "      <td>AK</td>\n",
       "      <td>64.7556</td>\n",
       "      <td>-165.6723</td>\n",
       "      <td>145</td>\n",
       "      <td>\"Administrator, education\"</td>\n",
       "      <td>1939-11-09</td>\n",
       "      <td>a59185fe1b9ccf21323f581d7477573f</td>\n",
       "      <td>65.468863</td>\n",
       "      <td>-165.473127</td>\n",
       "      <td>1</td>\n",
       "      <td>84</td>\n",
       "    </tr>\n",
       "    <tr>\n",
       "      <th>1192</th>\n",
       "      <td>2019-01-04 23:06:28</td>\n",
       "      <td>Murray-Smitham</td>\n",
       "      <td>grocery_pos</td>\n",
       "      <td>295.26</td>\n",
       "      <td>Wales</td>\n",
       "      <td>AK</td>\n",
       "      <td>64.7556</td>\n",
       "      <td>-165.6723</td>\n",
       "      <td>145</td>\n",
       "      <td>\"Administrator, education\"</td>\n",
       "      <td>1939-11-09</td>\n",
       "      <td>3a068fe1d856f0ecedbed33e4b5f4496</td>\n",
       "      <td>64.445035</td>\n",
       "      <td>-166.080207</td>\n",
       "      <td>1</td>\n",
       "      <td>84</td>\n",
       "    </tr>\n",
       "    <tr>\n",
       "      <th>1322</th>\n",
       "      <td>2019-01-05 11:31:23</td>\n",
       "      <td>Padberg-Welch</td>\n",
       "      <td>grocery_pos</td>\n",
       "      <td>367.29</td>\n",
       "      <td>Browning</td>\n",
       "      <td>MO</td>\n",
       "      <td>40.0290</td>\n",
       "      <td>-93.1607</td>\n",
       "      <td>602</td>\n",
       "      <td>Cytogeneticist</td>\n",
       "      <td>1954-07-14</td>\n",
       "      <td>5fbe827807ec9f557f6242bb48db0e51</td>\n",
       "      <td>39.167065</td>\n",
       "      <td>-93.705245</td>\n",
       "      <td>1</td>\n",
       "      <td>69</td>\n",
       "    </tr>\n",
       "  </tbody>\n",
       "</table>\n",
       "</div>"
      ],
      "text/plain": [
       "     trans_date_trans_time        merchant      category     amt      city  \\\n",
       "1077   2019-01-04 15:06:38    Predovic Inc  shopping_net  966.11     Wales   \n",
       "1192   2019-01-04 23:06:28  Murray-Smitham   grocery_pos  295.26     Wales   \n",
       "1322   2019-01-05 11:31:23   Padberg-Welch   grocery_pos  367.29  Browning   \n",
       "\n",
       "     state      lat      long  city_pop                         job  \\\n",
       "1077    AK  64.7556 -165.6723       145  \"Administrator, education\"   \n",
       "1192    AK  64.7556 -165.6723       145  \"Administrator, education\"   \n",
       "1322    MO  40.0290  -93.1607       602              Cytogeneticist   \n",
       "\n",
       "            dob                         trans_num  merch_lat  merch_long  \\\n",
       "1077 1939-11-09  a59185fe1b9ccf21323f581d7477573f  65.468863 -165.473127   \n",
       "1192 1939-11-09  3a068fe1d856f0ecedbed33e4b5f4496  64.445035 -166.080207   \n",
       "1322 1954-07-14  5fbe827807ec9f557f6242bb48db0e51  39.167065  -93.705245   \n",
       "\n",
       "      is_fraud  age  \n",
       "1077         1   84  \n",
       "1192         1   84  \n",
       "1322         1   69  "
      ]
     },
     "execution_count": 189,
     "metadata": {},
     "output_type": "execute_result"
    }
   ],
   "source": [
    "montant1 = df.query('amt > 250 and is_fraud == 1')\n",
    "montant1"
   ]
  },
  {
   "cell_type": "markdown",
   "id": "b82df0ed",
   "metadata": {
    "slideshow": {
     "slide_type": "slide"
    }
   },
   "source": [
    "## Montant des dépenses frauduleuses inférieur à 50 USD"
   ]
  },
  {
   "cell_type": "code",
   "execution_count": 190,
   "id": "ea34b135",
   "metadata": {
    "slideshow": {
     "slide_type": "fragment"
    }
   },
   "outputs": [
    {
     "data": {
      "text/html": [
       "<div>\n",
       "<style scoped>\n",
       "    .dataframe tbody tr th:only-of-type {\n",
       "        vertical-align: middle;\n",
       "    }\n",
       "\n",
       "    .dataframe tbody tr th {\n",
       "        vertical-align: top;\n",
       "    }\n",
       "\n",
       "    .dataframe thead th {\n",
       "        text-align: right;\n",
       "    }\n",
       "</style>\n",
       "<table border=\"1\" class=\"dataframe\">\n",
       "  <thead>\n",
       "    <tr style=\"text-align: right;\">\n",
       "      <th></th>\n",
       "      <th>trans_date_trans_time</th>\n",
       "      <th>merchant</th>\n",
       "      <th>category</th>\n",
       "      <th>amt</th>\n",
       "      <th>city</th>\n",
       "      <th>state</th>\n",
       "      <th>lat</th>\n",
       "      <th>long</th>\n",
       "      <th>city_pop</th>\n",
       "      <th>job</th>\n",
       "      <th>dob</th>\n",
       "      <th>trans_num</th>\n",
       "      <th>merch_lat</th>\n",
       "      <th>merch_long</th>\n",
       "      <th>is_fraud</th>\n",
       "      <th>age</th>\n",
       "    </tr>\n",
       "  </thead>\n",
       "  <tbody>\n",
       "    <tr>\n",
       "      <th>945</th>\n",
       "      <td>2019-01-04 00:58:03</td>\n",
       "      <td>\"Stokes, Christiansen and Sipes\"</td>\n",
       "      <td>grocery_net</td>\n",
       "      <td>14.37</td>\n",
       "      <td>Wales</td>\n",
       "      <td>AK</td>\n",
       "      <td>64.7556</td>\n",
       "      <td>-165.6723</td>\n",
       "      <td>145</td>\n",
       "      <td>\"Administrator, education\"</td>\n",
       "      <td>1939-11-09</td>\n",
       "      <td>a3806e984cec6ac0096d8184c64ad3a1</td>\n",
       "      <td>65.654142</td>\n",
       "      <td>-164.722603</td>\n",
       "      <td>1</td>\n",
       "      <td>84</td>\n",
       "    </tr>\n",
       "    <tr>\n",
       "      <th>1184</th>\n",
       "      <td>2019-01-04 22:37:04</td>\n",
       "      <td>Wisozk and Sons</td>\n",
       "      <td>misc_pos</td>\n",
       "      <td>49.61</td>\n",
       "      <td>Wales</td>\n",
       "      <td>AK</td>\n",
       "      <td>64.7556</td>\n",
       "      <td>-165.6723</td>\n",
       "      <td>145</td>\n",
       "      <td>\"Administrator, education\"</td>\n",
       "      <td>1939-11-09</td>\n",
       "      <td>86ba3a888b42cd3925881fa34177b4e0</td>\n",
       "      <td>65.347667</td>\n",
       "      <td>-165.914542</td>\n",
       "      <td>1</td>\n",
       "      <td>84</td>\n",
       "    </tr>\n",
       "    <tr>\n",
       "      <th>1202</th>\n",
       "      <td>2019-01-04 23:59:09</td>\n",
       "      <td>Friesen Lt</td>\n",
       "      <td>health_fitness</td>\n",
       "      <td>18.17</td>\n",
       "      <td>Wales</td>\n",
       "      <td>AK</td>\n",
       "      <td>64.7556</td>\n",
       "      <td>-165.6723</td>\n",
       "      <td>145</td>\n",
       "      <td>\"Administrator, education\"</td>\n",
       "      <td>1939-11-09</td>\n",
       "      <td>891cdd1191028759dc20dc224347a0ff</td>\n",
       "      <td>65.447094</td>\n",
       "      <td>-165.446843</td>\n",
       "      <td>1</td>\n",
       "      <td>84</td>\n",
       "    </tr>\n",
       "    <tr>\n",
       "      <th>1236</th>\n",
       "      <td>2019-01-05 03:15:35</td>\n",
       "      <td>\"Raynor, Reinger and Hagenes\"</td>\n",
       "      <td>gas_transport</td>\n",
       "      <td>20.45</td>\n",
       "      <td>Wales</td>\n",
       "      <td>AK</td>\n",
       "      <td>64.7556</td>\n",
       "      <td>-165.6723</td>\n",
       "      <td>145</td>\n",
       "      <td>\"Administrator, education\"</td>\n",
       "      <td>1939-11-09</td>\n",
       "      <td>ef010a5f4f570d306a050a368ee2729d</td>\n",
       "      <td>64.088838</td>\n",
       "      <td>-165.104078</td>\n",
       "      <td>1</td>\n",
       "      <td>84</td>\n",
       "    </tr>\n",
       "    <tr>\n",
       "      <th>1239</th>\n",
       "      <td>2019-01-05 03:21:29</td>\n",
       "      <td>Heller-Langosh</td>\n",
       "      <td>gas_transport</td>\n",
       "      <td>18.19</td>\n",
       "      <td>Wales</td>\n",
       "      <td>AK</td>\n",
       "      <td>64.7556</td>\n",
       "      <td>-165.6723</td>\n",
       "      <td>145</td>\n",
       "      <td>\"Administrator, education\"</td>\n",
       "      <td>1939-11-09</td>\n",
       "      <td>8e2d2fae5319d31c887dddbc70627ac4</td>\n",
       "      <td>63.917785</td>\n",
       "      <td>-165.827621</td>\n",
       "      <td>1</td>\n",
       "      <td>84</td>\n",
       "    </tr>\n",
       "  </tbody>\n",
       "</table>\n",
       "</div>"
      ],
      "text/plain": [
       "     trans_date_trans_time                          merchant        category  \\\n",
       "945    2019-01-04 00:58:03  \"Stokes, Christiansen and Sipes\"     grocery_net   \n",
       "1184   2019-01-04 22:37:04                   Wisozk and Sons        misc_pos   \n",
       "1202   2019-01-04 23:59:09                        Friesen Lt  health_fitness   \n",
       "1236   2019-01-05 03:15:35     \"Raynor, Reinger and Hagenes\"   gas_transport   \n",
       "1239   2019-01-05 03:21:29                    Heller-Langosh   gas_transport   \n",
       "\n",
       "        amt   city state      lat      long  city_pop  \\\n",
       "945   14.37  Wales    AK  64.7556 -165.6723       145   \n",
       "1184  49.61  Wales    AK  64.7556 -165.6723       145   \n",
       "1202  18.17  Wales    AK  64.7556 -165.6723       145   \n",
       "1236  20.45  Wales    AK  64.7556 -165.6723       145   \n",
       "1239  18.19  Wales    AK  64.7556 -165.6723       145   \n",
       "\n",
       "                             job        dob                         trans_num  \\\n",
       "945   \"Administrator, education\" 1939-11-09  a3806e984cec6ac0096d8184c64ad3a1   \n",
       "1184  \"Administrator, education\" 1939-11-09  86ba3a888b42cd3925881fa34177b4e0   \n",
       "1202  \"Administrator, education\" 1939-11-09  891cdd1191028759dc20dc224347a0ff   \n",
       "1236  \"Administrator, education\" 1939-11-09  ef010a5f4f570d306a050a368ee2729d   \n",
       "1239  \"Administrator, education\" 1939-11-09  8e2d2fae5319d31c887dddbc70627ac4   \n",
       "\n",
       "      merch_lat  merch_long  is_fraud  age  \n",
       "945   65.654142 -164.722603         1   84  \n",
       "1184  65.347667 -165.914542         1   84  \n",
       "1202  65.447094 -165.446843         1   84  \n",
       "1236  64.088838 -165.104078         1   84  \n",
       "1239  63.917785 -165.827621         1   84  "
      ]
     },
     "execution_count": 190,
     "metadata": {},
     "output_type": "execute_result"
    }
   ],
   "source": [
    "montant2 = df.query('amt < 50 and is_fraud == 1')\n",
    "montant2"
   ]
  },
  {
   "cell_type": "markdown",
   "id": "023f7470",
   "metadata": {
    "slideshow": {
     "slide_type": "slide"
    }
   },
   "source": [
    "## Graphe sur les montants des dépenses sur les cas de fraudes"
   ]
  },
  {
   "cell_type": "code",
   "execution_count": 191,
   "id": "868c6e3b",
   "metadata": {
    "slideshow": {
     "slide_type": "fragment"
    }
   },
   "outputs": [
    {
     "data": {
      "image/png": "[encoded data removed]",
      "text/plain": [
       "<Figure size 640x480 with 1 Axes>"
      ]
     },
     "metadata": {},
     "output_type": "display_data"
    }
   ],
   "source": [
    "x= np.array([montant1['trans_date_trans_time'].count(),montant2['trans_date_trans_time'].count(),])\n",
    "myLabels=[\">250 USD\", \"<50 USD\",]\n",
    "plt.title(\"Total des montants sur les depenses frauduleuses sur chaque achats\")\n",
    "plt.pie(x,labels=myLabels,autopct=\"%.1f%%\")\n",
    "plt.show()"
   ]
  },
  {
   "cell_type": "markdown",
   "id": "724b0b45",
   "metadata": {
    "slideshow": {
     "slide_type": "slide"
    }
   },
   "source": [
    "## Visualisation des montants de transaction le plus haut et le plus bas"
   ]
  },
  {
   "cell_type": "code",
   "execution_count": 192,
   "id": "60f78838",
   "metadata": {
    "slideshow": {
     "slide_type": "fragment"
    }
   },
   "outputs": [
    {
     "data": {
      "image/png": "[encoded data removed]",
      "text/plain": [
       "<Figure size 640x480 with 1 Axes>"
      ]
     },
     "metadata": {},
     "output_type": "display_data"
    }
   ],
   "source": [
    "y1 = montant1['amt'].max()\n",
    "\n",
    " \n",
    "y2 = montant2['amt'].min()\n",
    "\n",
    " \n",
    "plt.bar(1, y1, label='Max')\n",
    "plt.bar(2, y2, label='Min')\n",
    "\n",
    " \n",
    "plt.show()"
   ]
  },
  {
   "cell_type": "markdown",
   "id": "9f50d8cd",
   "metadata": {
    "slideshow": {
     "slide_type": "slide"
    }
   },
   "source": [
    "## Dans quel Etat il y'a eu des cas de fraudes avec les cartes ?"
   ]
  },
  {
   "cell_type": "code",
   "execution_count": 193,
   "id": "0226c10e",
   "metadata": {
    "slideshow": {
     "slide_type": "fragment"
    }
   },
   "outputs": [
    {
     "data": {
      "image/png": "[encoded data removed]",
      "text/plain": [
       "<Figure size 640x480 with 1 Axes>"
      ]
     },
     "metadata": {},
     "output_type": "display_data"
    }
   ],
   "source": [
    "df.boxplot(by='state', column=['is_fraud'], grid=False);"
   ]
  },
  {
   "cell_type": "markdown",
   "id": "6587f857",
   "metadata": {
    "slideshow": {
     "slide_type": "slide"
    }
   },
   "source": [
    "## Dans quel Etat il y'a eu des achats avec les cartes (Max et Min) ?"
   ]
  },
  {
   "cell_type": "code",
   "execution_count": 194,
   "id": "93ee7f2c",
   "metadata": {
    "slideshow": {
     "slide_type": "fragment"
    }
   },
   "outputs": [
    {
     "data": {
      "image/png": "[encoded data removed]",
      "text/plain": [
       "<Figure size 640x480 with 1 Axes>"
      ]
     },
     "metadata": {},
     "output_type": "display_data"
    }
   ],
   "source": [
    "df.boxplot(by='state', column=['amt'], grid=True);"
   ]
  },
  {
   "cell_type": "markdown",
   "id": "9ebec488",
   "metadata": {
    "slideshow": {
     "slide_type": "slide"
    }
   },
   "source": [
    "## Importation de la bibliotheque SQLITE3 et création d'une table CARTE "
   ]
  },
  {
   "cell_type": "code",
   "execution_count": 195,
   "id": "ad5f13c4",
   "metadata": {
    "slideshow": {
     "slide_type": "fragment"
    }
   },
   "outputs": [],
   "source": [
    "import sqlite3\n",
    "connection = sqlite3.connect('db.sqlite')\n",
    "cursor = connection.cursor()\n",
    "cursor.execute\n",
    "('Create Table if not exists CARTES (trans_date_trans_time Text,merchant Text,category Text,amt Float,city Text,state Text,lat Float,long Float,city_pop Integer,job Text,dob Text,trans_num Integer,merch_lat Float,merch_long Float,is_fraud Integer, age Integer')\n",
    "connection.commit()"
   ]
  },
  {
   "cell_type": "markdown",
   "id": "7ae83432",
   "metadata": {
    "slideshow": {
     "slide_type": "slide"
    }
   },
   "source": [
    "## Connexion à la table CARTES avec la création ou le remplacement de la table "
   ]
  },
  {
   "cell_type": "code",
   "execution_count": 196,
   "id": "2186b9d6",
   "metadata": {
    "slideshow": {
     "slide_type": "fragment"
    }
   },
   "outputs": [],
   "source": [
    "df.to_sql('CARTES', connection, if_exists='replace', index = True)\n",
    "connection.close()"
   ]
  },
  {
   "cell_type": "markdown",
   "id": "c378e1d5",
   "metadata": {
    "slideshow": {
     "slide_type": "slide"
    }
   },
   "source": [
    "## Affichage des cartes où il y'a des fraudes"
   ]
  },
  {
   "cell_type": "code",
   "execution_count": 197,
   "id": "e745a672",
   "metadata": {
    "slideshow": {
     "slide_type": "fragment"
    }
   },
   "outputs": [
    {
     "data": {
      "text/html": [
       "<div>\n",
       "<style scoped>\n",
       "    .dataframe tbody tr th:only-of-type {\n",
       "        vertical-align: middle;\n",
       "    }\n",
       "\n",
       "    .dataframe tbody tr th {\n",
       "        vertical-align: top;\n",
       "    }\n",
       "\n",
       "    .dataframe thead th {\n",
       "        text-align: right;\n",
       "    }\n",
       "</style>\n",
       "<table border=\"1\" class=\"dataframe\">\n",
       "  <thead>\n",
       "    <tr style=\"text-align: right;\">\n",
       "      <th></th>\n",
       "      <th>amt</th>\n",
       "      <th>city</th>\n",
       "      <th>job</th>\n",
       "      <th>age</th>\n",
       "    </tr>\n",
       "  </thead>\n",
       "  <tbody>\n",
       "    <tr>\n",
       "      <th>0</th>\n",
       "      <td>14.37</td>\n",
       "      <td>Wales</td>\n",
       "      <td>\"Administrator, education\"</td>\n",
       "      <td>84</td>\n",
       "    </tr>\n",
       "    <tr>\n",
       "      <th>1</th>\n",
       "      <td>966.11</td>\n",
       "      <td>Wales</td>\n",
       "      <td>\"Administrator, education\"</td>\n",
       "      <td>84</td>\n",
       "    </tr>\n",
       "    <tr>\n",
       "      <th>2</th>\n",
       "      <td>49.61</td>\n",
       "      <td>Wales</td>\n",
       "      <td>\"Administrator, education\"</td>\n",
       "      <td>84</td>\n",
       "    </tr>\n",
       "    <tr>\n",
       "      <th>3</th>\n",
       "      <td>295.26</td>\n",
       "      <td>Wales</td>\n",
       "      <td>\"Administrator, education\"</td>\n",
       "      <td>84</td>\n",
       "    </tr>\n",
       "    <tr>\n",
       "      <th>4</th>\n",
       "      <td>18.17</td>\n",
       "      <td>Wales</td>\n",
       "      <td>\"Administrator, education\"</td>\n",
       "      <td>84</td>\n",
       "    </tr>\n",
       "    <tr>\n",
       "      <th>5</th>\n",
       "      <td>20.45</td>\n",
       "      <td>Wales</td>\n",
       "      <td>\"Administrator, education\"</td>\n",
       "      <td>84</td>\n",
       "    </tr>\n",
       "    <tr>\n",
       "      <th>6</th>\n",
       "      <td>18.19</td>\n",
       "      <td>Wales</td>\n",
       "      <td>\"Administrator, education\"</td>\n",
       "      <td>84</td>\n",
       "    </tr>\n",
       "    <tr>\n",
       "      <th>7</th>\n",
       "      <td>367.29</td>\n",
       "      <td>Browning</td>\n",
       "      <td>Cytogeneticist</td>\n",
       "      <td>69</td>\n",
       "    </tr>\n",
       "  </tbody>\n",
       "</table>\n",
       "</div>"
      ],
      "text/plain": [
       "      amt      city                         job  age\n",
       "0   14.37     Wales  \"Administrator, education\"   84\n",
       "1  966.11     Wales  \"Administrator, education\"   84\n",
       "2   49.61     Wales  \"Administrator, education\"   84\n",
       "3  295.26     Wales  \"Administrator, education\"   84\n",
       "4   18.17     Wales  \"Administrator, education\"   84\n",
       "5   20.45     Wales  \"Administrator, education\"   84\n",
       "6   18.19     Wales  \"Administrator, education\"   84\n",
       "7  367.29  Browning              Cytogeneticist   69"
      ]
     },
     "execution_count": 197,
     "metadata": {},
     "output_type": "execute_result"
    }
   ],
   "source": [
    "connection = sqlite3.connect('db.sqlite')\n",
    "df1 = pd.read_sql_query(\"SELECT amt,city,job,age FROM CARTES WHERE is_fraud=1\", connection)\n",
    "df1"
   ]
  },
  {
   "cell_type": "markdown",
   "id": "b13b1b39",
   "metadata": {
    "slideshow": {
     "slide_type": "slide"
    }
   },
   "source": [
    "## CAS SUR LES FRAUDES\n",
    "\n",
    "* Quel temps les fraudes ont été effectuées ?\n",
    "* Quel job font les titulaires des cartes où il y'a eu des fraudes ? "
   ]
  },
  {
   "cell_type": "code",
   "execution_count": 198,
   "id": "ad4da6ab",
   "metadata": {
    "slideshow": {
     "slide_type": "fragment"
    }
   },
   "outputs": [
    {
     "data": {
      "text/html": [
       "<div>\n",
       "<style scoped>\n",
       "    .dataframe tbody tr th:only-of-type {\n",
       "        vertical-align: middle;\n",
       "    }\n",
       "\n",
       "    .dataframe tbody tr th {\n",
       "        vertical-align: top;\n",
       "    }\n",
       "\n",
       "    .dataframe thead th {\n",
       "        text-align: right;\n",
       "    }\n",
       "</style>\n",
       "<table border=\"1\" class=\"dataframe\">\n",
       "  <thead>\n",
       "    <tr style=\"text-align: right;\">\n",
       "      <th></th>\n",
       "      <th>trans_date_trans_time</th>\n",
       "      <th>job</th>\n",
       "    </tr>\n",
       "  </thead>\n",
       "  <tbody>\n",
       "    <tr>\n",
       "      <th>0</th>\n",
       "      <td>2019-01-04 00:58:03</td>\n",
       "      <td>\"Administrator, education\"</td>\n",
       "    </tr>\n",
       "    <tr>\n",
       "      <th>1</th>\n",
       "      <td>2019-01-04 15:06:38</td>\n",
       "      <td>\"Administrator, education\"</td>\n",
       "    </tr>\n",
       "    <tr>\n",
       "      <th>2</th>\n",
       "      <td>2019-01-04 22:37:04</td>\n",
       "      <td>\"Administrator, education\"</td>\n",
       "    </tr>\n",
       "    <tr>\n",
       "      <th>3</th>\n",
       "      <td>2019-01-04 23:06:28</td>\n",
       "      <td>\"Administrator, education\"</td>\n",
       "    </tr>\n",
       "    <tr>\n",
       "      <th>4</th>\n",
       "      <td>2019-01-04 23:59:09</td>\n",
       "      <td>\"Administrator, education\"</td>\n",
       "    </tr>\n",
       "    <tr>\n",
       "      <th>5</th>\n",
       "      <td>2019-01-05 03:15:35</td>\n",
       "      <td>\"Administrator, education\"</td>\n",
       "    </tr>\n",
       "    <tr>\n",
       "      <th>6</th>\n",
       "      <td>2019-01-05 03:21:29</td>\n",
       "      <td>\"Administrator, education\"</td>\n",
       "    </tr>\n",
       "    <tr>\n",
       "      <th>7</th>\n",
       "      <td>2019-01-05 11:31:23</td>\n",
       "      <td>Cytogeneticist</td>\n",
       "    </tr>\n",
       "  </tbody>\n",
       "</table>\n",
       "</div>"
      ],
      "text/plain": [
       "  trans_date_trans_time                         job\n",
       "0   2019-01-04 00:58:03  \"Administrator, education\"\n",
       "1   2019-01-04 15:06:38  \"Administrator, education\"\n",
       "2   2019-01-04 22:37:04  \"Administrator, education\"\n",
       "3   2019-01-04 23:06:28  \"Administrator, education\"\n",
       "4   2019-01-04 23:59:09  \"Administrator, education\"\n",
       "5   2019-01-05 03:15:35  \"Administrator, education\"\n",
       "6   2019-01-05 03:21:29  \"Administrator, education\"\n",
       "7   2019-01-05 11:31:23              Cytogeneticist"
      ]
     },
     "execution_count": 198,
     "metadata": {},
     "output_type": "execute_result"
    }
   ],
   "source": [
    "connection = sqlite3.connect('db.sqlite')\n",
    "df1 = pd.read_sql_query(\"SELECT trans_date_trans_time,job FROM CARTES WHERE is_fraud=1\", connection)\n",
    "df1"
   ]
  },
  {
   "cell_type": "markdown",
   "id": "da882dad",
   "metadata": {
    "slideshow": {
     "slide_type": "slide"
    }
   },
   "source": [
    "## VISUALISONS \n",
    "* La ville\n",
    "* Le nombre de population\n",
    "* La latitude\n",
    "* La longitude\n",
    "* La latitude du marchant\n",
    "* La longitude du marchant"
   ]
  },
  {
   "cell_type": "code",
   "execution_count": 199,
   "id": "7404e7f8",
   "metadata": {
    "slideshow": {
     "slide_type": "fragment"
    }
   },
   "outputs": [
    {
     "data": {
      "text/html": [
       "<div>\n",
       "<style scoped>\n",
       "    .dataframe tbody tr th:only-of-type {\n",
       "        vertical-align: middle;\n",
       "    }\n",
       "\n",
       "    .dataframe tbody tr th {\n",
       "        vertical-align: top;\n",
       "    }\n",
       "\n",
       "    .dataframe thead th {\n",
       "        text-align: right;\n",
       "    }\n",
       "</style>\n",
       "<table border=\"1\" class=\"dataframe\">\n",
       "  <thead>\n",
       "    <tr style=\"text-align: right;\">\n",
       "      <th></th>\n",
       "      <th>city</th>\n",
       "      <th>city_pop</th>\n",
       "      <th>lat</th>\n",
       "      <th>long</th>\n",
       "      <th>merch_lat</th>\n",
       "      <th>merch_long</th>\n",
       "    </tr>\n",
       "  </thead>\n",
       "  <tbody>\n",
       "    <tr>\n",
       "      <th>0</th>\n",
       "      <td>Wales</td>\n",
       "      <td>145</td>\n",
       "      <td>64.7556</td>\n",
       "      <td>-165.6723</td>\n",
       "      <td>65.654142</td>\n",
       "      <td>-164.722603</td>\n",
       "    </tr>\n",
       "    <tr>\n",
       "      <th>1</th>\n",
       "      <td>Wales</td>\n",
       "      <td>145</td>\n",
       "      <td>64.7556</td>\n",
       "      <td>-165.6723</td>\n",
       "      <td>65.468863</td>\n",
       "      <td>-165.473127</td>\n",
       "    </tr>\n",
       "    <tr>\n",
       "      <th>2</th>\n",
       "      <td>Wales</td>\n",
       "      <td>145</td>\n",
       "      <td>64.7556</td>\n",
       "      <td>-165.6723</td>\n",
       "      <td>65.347667</td>\n",
       "      <td>-165.914542</td>\n",
       "    </tr>\n",
       "    <tr>\n",
       "      <th>3</th>\n",
       "      <td>Wales</td>\n",
       "      <td>145</td>\n",
       "      <td>64.7556</td>\n",
       "      <td>-165.6723</td>\n",
       "      <td>64.445035</td>\n",
       "      <td>-166.080207</td>\n",
       "    </tr>\n",
       "    <tr>\n",
       "      <th>4</th>\n",
       "      <td>Wales</td>\n",
       "      <td>145</td>\n",
       "      <td>64.7556</td>\n",
       "      <td>-165.6723</td>\n",
       "      <td>65.447094</td>\n",
       "      <td>-165.446843</td>\n",
       "    </tr>\n",
       "    <tr>\n",
       "      <th>5</th>\n",
       "      <td>Wales</td>\n",
       "      <td>145</td>\n",
       "      <td>64.7556</td>\n",
       "      <td>-165.6723</td>\n",
       "      <td>64.088838</td>\n",
       "      <td>-165.104078</td>\n",
       "    </tr>\n",
       "    <tr>\n",
       "      <th>6</th>\n",
       "      <td>Wales</td>\n",
       "      <td>145</td>\n",
       "      <td>64.7556</td>\n",
       "      <td>-165.6723</td>\n",
       "      <td>63.917785</td>\n",
       "      <td>-165.827621</td>\n",
       "    </tr>\n",
       "    <tr>\n",
       "      <th>7</th>\n",
       "      <td>Browning</td>\n",
       "      <td>602</td>\n",
       "      <td>40.0290</td>\n",
       "      <td>-93.1607</td>\n",
       "      <td>39.167065</td>\n",
       "      <td>-93.705245</td>\n",
       "    </tr>\n",
       "  </tbody>\n",
       "</table>\n",
       "</div>"
      ],
      "text/plain": [
       "       city  city_pop      lat      long  merch_lat  merch_long\n",
       "0     Wales       145  64.7556 -165.6723  65.654142 -164.722603\n",
       "1     Wales       145  64.7556 -165.6723  65.468863 -165.473127\n",
       "2     Wales       145  64.7556 -165.6723  65.347667 -165.914542\n",
       "3     Wales       145  64.7556 -165.6723  64.445035 -166.080207\n",
       "4     Wales       145  64.7556 -165.6723  65.447094 -165.446843\n",
       "5     Wales       145  64.7556 -165.6723  64.088838 -165.104078\n",
       "6     Wales       145  64.7556 -165.6723  63.917785 -165.827621\n",
       "7  Browning       602  40.0290  -93.1607  39.167065  -93.705245"
      ]
     },
     "execution_count": 199,
     "metadata": {},
     "output_type": "execute_result"
    }
   ],
   "source": [
    "connection = sqlite3.connect('db.sqlite')\n",
    "df1 = pd.read_sql_query(\"SELECT city,city_pop,lat,long,merch_lat,merch_long FROM CARTES WHERE is_fraud=1\", connection)\n",
    "df1"
   ]
  },
  {
   "cell_type": "markdown",
   "id": "90f576c6",
   "metadata": {
    "slideshow": {
     "slide_type": "slide"
    }
   },
   "source": [
    "<h1 class=\"fragment\" data-fragment-index=\"1\"> <span style=\"color:blue\">Conclusion</span></h1>\n",
    "<h4 class=\"fragment\" data-fragment-index=\"2\" style=\"font-weight:300\">Sur la base de l'analyse des données sur la fraude par carte de crédit, il apparaît que les personnes âgées de plus de 60 ans sont plus susceptibles d'être victimes de fraude, en particulier dans l'État WALES. Cette tendance est préoccupante, car les personnes âgées peuvent être plus vulnérables à l'exploitation financière.\n",
    "    <br>\n",
    "    <br>\n",
    "Ces fraudes ont été effectuées du 04/01/2019 au 05/01/2019 Généralement par des titulaires de cartes dont leur job sont <span style=\"color:blue\"> Administrator, education et Cytogeneticist</span>\n",
    "Pour résoudre ce problème, il peut être nécessaire de mettre en œuvre des mesures de prévention ciblées telles que des campagnes d'éducation et des systèmes améliorés de détection des fraudes spécialement conçus pour protéger les personnes âgées..\n",
    "    <br>\n",
    "    <br>\n",
    "Les montants sur les transactions sont : <span style=\"color:blue\">5 transactions de moins de 50 USD et 3 transactions de plus de 250 USD (295 USD, 367 USD, 966 USD)</span>\n",
    "    <br>\n",
    "    <br>\n",
    "Il est important de noter que cette conclusion est basée sur les données spécifiques analysées et ne peut pas nécessairement être généralisable à d'autres populations ou emplacements. D'autres recherches pourraient être nécessaires pour confirmer ces résultats et identifier d'autres facteurs susceptibles de contribuer au risque accru de fraude chez les personnes âgées..</h4>\n"
   ]
  }
 ],
 "metadata": {
  "celltoolbar": "Diaporama",
  "kernelspec": {
   "display_name": "Python 3 (ipykernel)",
   "language": "python",
   "name": "python3"
  },
  "language_info": {
   "codemirror_mode": {
    "name": "ipython",
    "version": 3
   },
   "file_extension": ".py",
   "mimetype": "text/x-python",
   "name": "python",
   "nbconvert_exporter": "python",
   "pygments_lexer": "ipython3",
   "version": "3.9.13"
  },
  "vscode": {
   "interpreter": {
    "hash": "701d4f28dcd0866722f5108a3a4cbcd08882d26398b6d44117e791d7b8102912"
   }
  }
 },
 "nbformat": 4,
 "nbformat_minor": 5
}
