{
 "cells": [
  {
   "cell_type": "markdown",
   "metadata": {},
   "source": [
    "PROJET ANALYSE"
   ]
  },
  {
   "cell_type": "markdown",
   "metadata": {},
   "source": [
    "## Importation des bibliotheques"
   ]
  },
  {
   "cell_type": "code",
   "execution_count": 30,
   "metadata": {},
   "outputs": [],
   "source": [
    "import numpy as np\n",
    "import pandas as pd\n",
    "import matplotlib.pyplot as plt\n",
    "%matplotlib inline \n",
    "\n",
    "\n",
    "\n"
   ]
  },
  {
   "cell_type": "markdown",
   "metadata": {},
   "source": [
    "## Importation du dataset"
   ]
  },
  {
   "cell_type": "code",
   "execution_count": 31,
   "metadata": {},
   "outputs": [],
   "source": [
    "data=\"/Users/user/Desktop/Data Analyse/creditCardFraude/data/creditcard_fraude.csv\"\n",
    "df=pd.read_csv(data)"
   ]
  },
  {
   "cell_type": "markdown",
   "metadata": {},
   "source": [
    "## Visualisation des 5c premieres lignes "
   ]
  },
  {
   "cell_type": "code",
   "execution_count": 32,
   "metadata": {},
   "outputs": [
    {
     "data": {
      "text/html": [
       "<div>\n",
       "<style scoped>\n",
       "    .dataframe tbody tr th:only-of-type {\n",
       "        vertical-align: middle;\n",
       "    }\n",
       "\n",
       "    .dataframe tbody tr th {\n",
       "        vertical-align: top;\n",
       "    }\n",
       "\n",
       "    .dataframe thead th {\n",
       "        text-align: right;\n",
       "    }\n",
       "</style>\n",
       "<table border=\"1\" class=\"dataframe\">\n",
       "  <thead>\n",
       "    <tr style=\"text-align: right;\">\n",
       "      <th></th>\n",
       "      <th>trans_date_trans_time</th>\n",
       "      <th>merchant</th>\n",
       "      <th>category</th>\n",
       "      <th>amt</th>\n",
       "      <th>city</th>\n",
       "      <th>state</th>\n",
       "      <th>lat</th>\n",
       "      <th>long</th>\n",
       "      <th>city_pop</th>\n",
       "      <th>job</th>\n",
       "      <th>dob</th>\n",
       "      <th>trans_num</th>\n",
       "      <th>merch_lat</th>\n",
       "      <th>merch_long</th>\n",
       "      <th>is_fraud</th>\n",
       "    </tr>\n",
       "  </thead>\n",
       "  <tbody>\n",
       "    <tr>\n",
       "      <th>0</th>\n",
       "      <td>2019-01-01 00:00:44</td>\n",
       "      <td>\"Heller, Gutmann and Zieme\"</td>\n",
       "      <td>grocery_pos</td>\n",
       "      <td>107.23</td>\n",
       "      <td>Orient</td>\n",
       "      <td>WA</td>\n",
       "      <td>48.8878</td>\n",
       "      <td>-118.2105</td>\n",
       "      <td>149</td>\n",
       "      <td>Special educational needs teacher</td>\n",
       "      <td>1978-06-21</td>\n",
       "      <td>1f76529f8574734946361c461b024d99</td>\n",
       "      <td>49.159047</td>\n",
       "      <td>-118.186462</td>\n",
       "      <td>0</td>\n",
       "    </tr>\n",
       "    <tr>\n",
       "      <th>1</th>\n",
       "      <td>2019-01-01 00:00:51</td>\n",
       "      <td>Lind-Buckridge</td>\n",
       "      <td>entertainment</td>\n",
       "      <td>220.11</td>\n",
       "      <td>Malad City</td>\n",
       "      <td>ID</td>\n",
       "      <td>42.1808</td>\n",
       "      <td>-112.2620</td>\n",
       "      <td>4154</td>\n",
       "      <td>Nature conservation officer</td>\n",
       "      <td>1962-01-19</td>\n",
       "      <td>a1a22d70485983eac12b5b88dad1cf95</td>\n",
       "      <td>43.150704</td>\n",
       "      <td>-112.154481</td>\n",
       "      <td>0</td>\n",
       "    </tr>\n",
       "    <tr>\n",
       "      <th>2</th>\n",
       "      <td>2019-01-01 00:07:27</td>\n",
       "      <td>Kiehn Inc</td>\n",
       "      <td>grocery_pos</td>\n",
       "      <td>96.29</td>\n",
       "      <td>Grenada</td>\n",
       "      <td>CA</td>\n",
       "      <td>41.6125</td>\n",
       "      <td>-122.5258</td>\n",
       "      <td>589</td>\n",
       "      <td>Systems analyst</td>\n",
       "      <td>1945-12-21</td>\n",
       "      <td>413636e759663f264aae1819a4d4f231</td>\n",
       "      <td>41.657520</td>\n",
       "      <td>-122.230347</td>\n",
       "      <td>0</td>\n",
       "    </tr>\n",
       "    <tr>\n",
       "      <th>3</th>\n",
       "      <td>2019-01-01 00:09:03</td>\n",
       "      <td>Beier-Hyatt</td>\n",
       "      <td>shopping_pos</td>\n",
       "      <td>7.77</td>\n",
       "      <td>High Rolls Mountain Park</td>\n",
       "      <td>NM</td>\n",
       "      <td>32.9396</td>\n",
       "      <td>-105.8189</td>\n",
       "      <td>899</td>\n",
       "      <td>Naval architect</td>\n",
       "      <td>1967-08-30</td>\n",
       "      <td>8a6293af5ed278dea14448ded2685fea</td>\n",
       "      <td>32.863258</td>\n",
       "      <td>-106.520205</td>\n",
       "      <td>0</td>\n",
       "    </tr>\n",
       "    <tr>\n",
       "      <th>4</th>\n",
       "      <td>2019-01-01 00:21:32</td>\n",
       "      <td>Bruen-Yost</td>\n",
       "      <td>misc_pos</td>\n",
       "      <td>6.85</td>\n",
       "      <td>Freedom</td>\n",
       "      <td>WY</td>\n",
       "      <td>43.0172</td>\n",
       "      <td>-111.0292</td>\n",
       "      <td>471</td>\n",
       "      <td>\"Education officer, museum\"</td>\n",
       "      <td>1967-08-02</td>\n",
       "      <td>f3c43d336e92a44fc2fb67058d5949e3</td>\n",
       "      <td>43.753735</td>\n",
       "      <td>-111.454923</td>\n",
       "      <td>0</td>\n",
       "    </tr>\n",
       "  </tbody>\n",
       "</table>\n",
       "</div>"
      ],
      "text/plain": [
       "  trans_date_trans_time                     merchant       category     amt  \\\n",
       "0   2019-01-01 00:00:44  \"Heller, Gutmann and Zieme\"    grocery_pos  107.23   \n",
       "1   2019-01-01 00:00:51               Lind-Buckridge  entertainment  220.11   \n",
       "2   2019-01-01 00:07:27                    Kiehn Inc    grocery_pos   96.29   \n",
       "3   2019-01-01 00:09:03                  Beier-Hyatt   shopping_pos    7.77   \n",
       "4   2019-01-01 00:21:32                   Bruen-Yost       misc_pos    6.85   \n",
       "\n",
       "                       city state      lat      long  city_pop  \\\n",
       "0                    Orient    WA  48.8878 -118.2105       149   \n",
       "1                Malad City    ID  42.1808 -112.2620      4154   \n",
       "2                   Grenada    CA  41.6125 -122.5258       589   \n",
       "3  High Rolls Mountain Park    NM  32.9396 -105.8189       899   \n",
       "4                   Freedom    WY  43.0172 -111.0292       471   \n",
       "\n",
       "                                 job         dob  \\\n",
       "0  Special educational needs teacher  1978-06-21   \n",
       "1        Nature conservation officer  1962-01-19   \n",
       "2                    Systems analyst  1945-12-21   \n",
       "3                    Naval architect  1967-08-30   \n",
       "4        \"Education officer, museum\"  1967-08-02   \n",
       "\n",
       "                          trans_num  merch_lat  merch_long  is_fraud  \n",
       "0  1f76529f8574734946361c461b024d99  49.159047 -118.186462         0  \n",
       "1  a1a22d70485983eac12b5b88dad1cf95  43.150704 -112.154481         0  \n",
       "2  413636e759663f264aae1819a4d4f231  41.657520 -122.230347         0  \n",
       "3  8a6293af5ed278dea14448ded2685fea  32.863258 -106.520205         0  \n",
       "4  f3c43d336e92a44fc2fb67058d5949e3  43.753735 -111.454923         0  "
      ]
     },
     "execution_count": 32,
     "metadata": {},
     "output_type": "execute_result"
    }
   ],
   "source": [
    "df.head()"
   ]
  },
  {
   "cell_type": "markdown",
   "metadata": {},
   "source": [
    "## Visualisation de la structure du dataset"
   ]
  },
  {
   "cell_type": "code",
   "execution_count": 33,
   "metadata": {},
   "outputs": [
    {
     "name": "stdout",
     "output_type": "stream",
     "text": [
      "<class 'pandas.core.frame.DataFrame'>\n",
      "RangeIndex: 1333 entries, 0 to 1332\n",
      "Data columns (total 15 columns):\n",
      " #   Column                 Non-Null Count  Dtype  \n",
      "---  ------                 --------------  -----  \n",
      " 0   trans_date_trans_time  1333 non-null   object \n",
      " 1   merchant               1333 non-null   object \n",
      " 2   category               1333 non-null   object \n",
      " 3   amt                    1333 non-null   float64\n",
      " 4   city                   1333 non-null   object \n",
      " 5   state                  1333 non-null   object \n",
      " 6   lat                    1333 non-null   float64\n",
      " 7   long                   1333 non-null   float64\n",
      " 8   city_pop               1333 non-null   int64  \n",
      " 9   job                    1333 non-null   object \n",
      " 10  dob                    1333 non-null   object \n",
      " 11  trans_num              1333 non-null   object \n",
      " 12  merch_lat              1333 non-null   float64\n",
      " 13  merch_long             1333 non-null   float64\n",
      " 14  is_fraud               1333 non-null   int64  \n",
      "dtypes: float64(5), int64(2), object(8)\n",
      "memory usage: 156.3+ KB\n"
     ]
    }
   ],
   "source": [
    "df.info()"
   ]
  },
  {
   "cell_type": "markdown",
   "metadata": {},
   "source": [
    "## Compte les cas de fraudes et de non fraudes"
   ]
  },
  {
   "cell_type": "code",
   "execution_count": 34,
   "metadata": {},
   "outputs": [
    {
     "data": {
      "text/plain": [
       "0    1325\n",
       "1       8\n",
       "Name: is_fraud, dtype: int64"
      ]
     },
     "execution_count": 34,
     "metadata": {},
     "output_type": "execute_result"
    }
   ],
   "source": [
    "df.is_fraud.value_counts()"
   ]
  },
  {
   "cell_type": "markdown",
   "metadata": {},
   "source": [
    "## Affichage des colonnes du dataset"
   ]
  },
  {
   "cell_type": "code",
   "execution_count": 35,
   "metadata": {},
   "outputs": [
    {
     "data": {
      "text/plain": [
       "Index(['trans_date_trans_time', 'merchant', 'category', 'amt', 'city', 'state',\n",
       "       'lat', 'long', 'city_pop', 'job', 'dob', 'trans_num', 'merch_lat',\n",
       "       'merch_long', 'is_fraud'],\n",
       "      dtype='object')"
      ]
     },
     "execution_count": 35,
     "metadata": {},
     "output_type": "execute_result"
    }
   ],
   "source": [
    "df.columns"
   ]
  },
  {
   "cell_type": "markdown",
   "metadata": {},
   "source": [
    "## VERIFICATION DES VALEURS NULL DANS LES DIFFERENTES COLONNES DU DATASET"
   ]
  },
  {
   "cell_type": "code",
   "execution_count": 36,
   "metadata": {},
   "outputs": [
    {
     "data": {
      "text/plain": [
       "trans_date_trans_time    0\n",
       "merchant                 0\n",
       "category                 0\n",
       "amt                      0\n",
       "city                     0\n",
       "state                    0\n",
       "lat                      0\n",
       "long                     0\n",
       "city_pop                 0\n",
       "job                      0\n",
       "dob                      0\n",
       "trans_num                0\n",
       "merch_lat                0\n",
       "merch_long               0\n",
       "is_fraud                 0\n",
       "dtype: int64"
      ]
     },
     "execution_count": 36,
     "metadata": {},
     "output_type": "execute_result"
    }
   ],
   "source": [
    "df.isnull().sum()"
   ]
  },
  {
   "cell_type": "markdown",
   "metadata": {},
   "source": [
    "## VERIFICATION DES VALEURS NULL DANS LE DATASET"
   ]
  },
  {
   "cell_type": "code",
   "execution_count": 37,
   "metadata": {},
   "outputs": [
    {
     "data": {
      "text/plain": [
       "0"
      ]
     },
     "execution_count": 37,
     "metadata": {},
     "output_type": "execute_result"
    }
   ],
   "source": [
    "df.isnull().values.sum()"
   ]
  },
  {
   "cell_type": "code",
   "execution_count": 38,
   "metadata": {},
   "outputs": [
    {
     "ename": "KeyError",
     "evalue": "\"['fraude'] not in index\"",
     "output_type": "error",
     "traceback": [
      "\u001b[0;31m---------------------------------------------------------------------------\u001b[0m",
      "\u001b[0;31mKeyError\u001b[0m                                  Traceback (most recent call last)",
      "\u001b[0;32m/var/folders/_8/n21p2rcd5sd4yqhw8z4mbdr40000gn/T/ipykernel_3192/126677134.py\u001b[0m in \u001b[0;36m<module>\u001b[0;34m\u001b[0m\n\u001b[0;32m----> 1\u001b[0;31m \u001b[0mdf\u001b[0m\u001b[0;34m[\u001b[0m\u001b[0mcont_feat\u001b[0m\u001b[0;34m]\u001b[0m\u001b[0;34m.\u001b[0m\u001b[0mdescribe\u001b[0m\u001b[0;34m(\u001b[0m\u001b[0;34m)\u001b[0m\u001b[0;34m\u001b[0m\u001b[0;34m\u001b[0m\u001b[0m\n\u001b[0m",
      "\u001b[0;32m~/opt/anaconda3/lib/python3.9/site-packages/pandas/core/frame.py\u001b[0m in \u001b[0;36m__getitem__\u001b[0;34m(self, key)\u001b[0m\n\u001b[1;32m   3509\u001b[0m             \u001b[0;32mif\u001b[0m \u001b[0mis_iterator\u001b[0m\u001b[0;34m(\u001b[0m\u001b[0mkey\u001b[0m\u001b[0;34m)\u001b[0m\u001b[0;34m:\u001b[0m\u001b[0;34m\u001b[0m\u001b[0;34m\u001b[0m\u001b[0m\n\u001b[1;32m   3510\u001b[0m                 \u001b[0mkey\u001b[0m \u001b[0;34m=\u001b[0m \u001b[0mlist\u001b[0m\u001b[0;34m(\u001b[0m\u001b[0mkey\u001b[0m\u001b[0;34m)\u001b[0m\u001b[0;34m\u001b[0m\u001b[0;34m\u001b[0m\u001b[0m\n\u001b[0;32m-> 3511\u001b[0;31m             \u001b[0mindexer\u001b[0m \u001b[0;34m=\u001b[0m \u001b[0mself\u001b[0m\u001b[0;34m.\u001b[0m\u001b[0mcolumns\u001b[0m\u001b[0;34m.\u001b[0m\u001b[0m_get_indexer_strict\u001b[0m\u001b[0;34m(\u001b[0m\u001b[0mkey\u001b[0m\u001b[0;34m,\u001b[0m \u001b[0;34m\"columns\"\u001b[0m\u001b[0;34m)\u001b[0m\u001b[0;34m[\u001b[0m\u001b[0;36m1\u001b[0m\u001b[0;34m]\u001b[0m\u001b[0;34m\u001b[0m\u001b[0;34m\u001b[0m\u001b[0m\n\u001b[0m\u001b[1;32m   3512\u001b[0m \u001b[0;34m\u001b[0m\u001b[0m\n\u001b[1;32m   3513\u001b[0m         \u001b[0;31m# take() does not accept boolean indexers\u001b[0m\u001b[0;34m\u001b[0m\u001b[0;34m\u001b[0m\u001b[0m\n",
      "\u001b[0;32m~/opt/anaconda3/lib/python3.9/site-packages/pandas/core/indexes/base.py\u001b[0m in \u001b[0;36m_get_indexer_strict\u001b[0;34m(self, key, axis_name)\u001b[0m\n\u001b[1;32m   5794\u001b[0m             \u001b[0mkeyarr\u001b[0m\u001b[0;34m,\u001b[0m \u001b[0mindexer\u001b[0m\u001b[0;34m,\u001b[0m \u001b[0mnew_indexer\u001b[0m \u001b[0;34m=\u001b[0m \u001b[0mself\u001b[0m\u001b[0;34m.\u001b[0m\u001b[0m_reindex_non_unique\u001b[0m\u001b[0;34m(\u001b[0m\u001b[0mkeyarr\u001b[0m\u001b[0;34m)\u001b[0m\u001b[0;34m\u001b[0m\u001b[0;34m\u001b[0m\u001b[0m\n\u001b[1;32m   5795\u001b[0m \u001b[0;34m\u001b[0m\u001b[0m\n\u001b[0;32m-> 5796\u001b[0;31m         \u001b[0mself\u001b[0m\u001b[0;34m.\u001b[0m\u001b[0m_raise_if_missing\u001b[0m\u001b[0;34m(\u001b[0m\u001b[0mkeyarr\u001b[0m\u001b[0;34m,\u001b[0m \u001b[0mindexer\u001b[0m\u001b[0;34m,\u001b[0m \u001b[0maxis_name\u001b[0m\u001b[0;34m)\u001b[0m\u001b[0;34m\u001b[0m\u001b[0;34m\u001b[0m\u001b[0m\n\u001b[0m\u001b[1;32m   5797\u001b[0m \u001b[0;34m\u001b[0m\u001b[0m\n\u001b[1;32m   5798\u001b[0m         \u001b[0mkeyarr\u001b[0m \u001b[0;34m=\u001b[0m \u001b[0mself\u001b[0m\u001b[0;34m.\u001b[0m\u001b[0mtake\u001b[0m\u001b[0;34m(\u001b[0m\u001b[0mindexer\u001b[0m\u001b[0;34m)\u001b[0m\u001b[0;34m\u001b[0m\u001b[0;34m\u001b[0m\u001b[0m\n",
      "\u001b[0;32m~/opt/anaconda3/lib/python3.9/site-packages/pandas/core/indexes/base.py\u001b[0m in \u001b[0;36m_raise_if_missing\u001b[0;34m(self, key, indexer, axis_name)\u001b[0m\n\u001b[1;32m   5857\u001b[0m \u001b[0;34m\u001b[0m\u001b[0m\n\u001b[1;32m   5858\u001b[0m             \u001b[0mnot_found\u001b[0m \u001b[0;34m=\u001b[0m \u001b[0mlist\u001b[0m\u001b[0;34m(\u001b[0m\u001b[0mensure_index\u001b[0m\u001b[0;34m(\u001b[0m\u001b[0mkey\u001b[0m\u001b[0;34m)\u001b[0m\u001b[0;34m[\u001b[0m\u001b[0mmissing_mask\u001b[0m\u001b[0;34m.\u001b[0m\u001b[0mnonzero\u001b[0m\u001b[0;34m(\u001b[0m\u001b[0;34m)\u001b[0m\u001b[0;34m[\u001b[0m\u001b[0;36m0\u001b[0m\u001b[0;34m]\u001b[0m\u001b[0;34m]\u001b[0m\u001b[0;34m.\u001b[0m\u001b[0munique\u001b[0m\u001b[0;34m(\u001b[0m\u001b[0;34m)\u001b[0m\u001b[0;34m)\u001b[0m\u001b[0;34m\u001b[0m\u001b[0;34m\u001b[0m\u001b[0m\n\u001b[0;32m-> 5859\u001b[0;31m             \u001b[0;32mraise\u001b[0m \u001b[0mKeyError\u001b[0m\u001b[0;34m(\u001b[0m\u001b[0;34mf\"{not_found} not in index\"\u001b[0m\u001b[0;34m)\u001b[0m\u001b[0;34m\u001b[0m\u001b[0;34m\u001b[0m\u001b[0m\n\u001b[0m\u001b[1;32m   5860\u001b[0m \u001b[0;34m\u001b[0m\u001b[0m\n\u001b[1;32m   5861\u001b[0m     \u001b[0;34m@\u001b[0m\u001b[0moverload\u001b[0m\u001b[0;34m\u001b[0m\u001b[0;34m\u001b[0m\u001b[0m\n",
      "\u001b[0;31mKeyError\u001b[0m: \"['fraude'] not in index\""
     ]
    }
   ],
   "source": [
    "df[cont_feat].describe()"
   ]
  },
  {
   "cell_type": "markdown",
   "metadata": {},
   "source": [
    "## HISTOGRAMME POUR VISUALISER LES CAS DE FRAUDES ET LES CAS DE NON FRAUDES"
   ]
  },
  {
   "cell_type": "code",
   "execution_count": 39,
   "metadata": {},
   "outputs": [
    {
     "data": {
      "text/plain": [
       "array([[<AxesSubplot:title={'center':'is_fraud'}>]], dtype=object)"
      ]
     },
     "execution_count": 39,
     "metadata": {},
     "output_type": "execute_result"
    },
    {
     "data": {
      "image/png": "[encoded data removed]",
      "text/plain": [
       "<Figure size 640x480 with 1 Axes>"
      ]
     },
     "metadata": {},
     "output_type": "display_data"
    }
   ],
   "source": [
    "df.hist(column='is_fraud')"
   ]
  },
  {
   "cell_type": "markdown",
   "metadata": {},
   "source": [
    "## DANS QUEL ETAT IL Y'A EU DES ACHATS AVEC LES CARTES ?"
   ]
  },
  {
   "cell_type": "code",
   "execution_count": 40,
   "metadata": {},
   "outputs": [
    {
     "data": {
      "image/png": "[encoded data removed]",
      "text/plain": [
       "<Figure size 640x480 with 1 Axes>"
      ]
     },
     "metadata": {},
     "output_type": "display_data"
    }
   ],
   "source": [
    "df.boxplot(by='state', column=['amt'], grid=False);"
   ]
  },
  {
   "cell_type": "markdown",
   "metadata": {},
   "source": [
    "## RECUPERATION DES MONTANTS DEPENSEZ DANS LA VARIABLE \"montant\""
   ]
  },
  {
   "cell_type": "code",
   "execution_count": 41,
   "metadata": {},
   "outputs": [
    {
     "data": {
      "text/plain": [
       "0       107.23\n",
       "1       220.11\n",
       "2        96.29\n",
       "3         7.77\n",
       "4         6.85\n",
       "         ...  \n",
       "1328     61.04\n",
       "1329      1.54\n",
       "1330     10.59\n",
       "1331     31.27\n",
       "1332     70.00\n",
       "Name: amt, Length: 1333, dtype: float64"
      ]
     },
     "execution_count": 41,
     "metadata": {},
     "output_type": "execute_result"
    }
   ],
   "source": [
    "montant = df['amt']\n",
    "montant"
   ]
  },
  {
   "cell_type": "markdown",
   "metadata": {},
   "source": [
    "## VISUALISATION DU MONTANT DE TRANSACTION LE PLUS HAUT"
   ]
  },
  {
   "cell_type": "code",
   "execution_count": 42,
   "metadata": {},
   "outputs": [
    {
     "data": {
      "text/plain": [
       "3178.51"
      ]
     },
     "execution_count": 42,
     "metadata": {},
     "output_type": "execute_result"
    }
   ],
   "source": [
    "montant.max()"
   ]
  },
  {
   "cell_type": "markdown",
   "metadata": {},
   "source": [
    "## VISUALISATION DU MONTANT DE TRANSACTION LE PLUS BAS"
   ]
  },
  {
   "cell_type": "code",
   "execution_count": 43,
   "metadata": {},
   "outputs": [
    {
     "data": {
      "text/plain": [
       "1.05"
      ]
     },
     "execution_count": 43,
     "metadata": {},
     "output_type": "execute_result"
    }
   ],
   "source": [
    "montant.min()"
   ]
  },
  {
   "cell_type": "markdown",
   "metadata": {},
   "source": [
    "## RECUPERATION DES AGES DES PROPRIETAIRES DES CARTES BANCAIRES DANS LA VARIABLE \"age\""
   ]
  },
  {
   "cell_type": "code",
   "execution_count": 44,
   "metadata": {},
   "outputs": [],
   "source": [
    "age=df['dob']"
   ]
  },
  {
   "cell_type": "markdown",
   "metadata": {},
   "source": [
    "## VISUALISATION DE L'AGE DU PLUS VIEUX A EFFECTUE UNE TRANSACTION AVEC SA CARTE"
   ]
  },
  {
   "cell_type": "code",
   "execution_count": 45,
   "metadata": {},
   "outputs": [
    {
     "data": {
      "text/plain": [
       "'1927-09-09'"
      ]
     },
     "execution_count": 45,
     "metadata": {},
     "output_type": "execute_result"
    }
   ],
   "source": [
    "age.min()"
   ]
  },
  {
   "cell_type": "markdown",
   "metadata": {},
   "source": [
    "## VISUALISATION DE L'AGE DU PLUS JEUNE A EFFECTUE UNE TRANSACTION AVEC SA CARTE"
   ]
  },
  {
   "cell_type": "code",
   "execution_count": 46,
   "metadata": {},
   "outputs": [
    {
     "data": {
      "text/plain": [
       "'2001-07-26'"
      ]
     },
     "execution_count": 46,
     "metadata": {},
     "output_type": "execute_result"
    }
   ],
   "source": [
    "age.max()"
   ]
  },
  {
   "cell_type": "markdown",
   "metadata": {},
   "source": [
    "## IMPORTATION DE LA BIBLIOTHEQUE SQLITE3 ET CREATION D'UNE TABLE CARTES POUR FAIRE DES REQUETES DESSUS"
   ]
  },
  {
   "cell_type": "code",
   "execution_count": 47,
   "metadata": {},
   "outputs": [],
   "source": [
    "import sqlite3\n",
    "connection = sqlite3.connect('db.sqlite')\n",
    "cursor = connection.cursor()\n",
    "cursor.execute\n",
    "('Create Table if not exists CARTES (trans_date_trans_time Text,merchant Text,category Text,amt Float,city Text,state Text,lat Float,long Float,city_pop Integer,job Text,dob Text,trans_num Integer,merch_lat Float,merch_long Float,is_fraud Integer')\n",
    "connection.commit()\n"
   ]
  },
  {
   "cell_type": "markdown",
   "metadata": {},
   "source": [
    "## CONNEXION A LA TABLE CARTES AVEC LA CREATION OU LE REMPLACEMENT DE LA TABLE SI ELLE EXISTE"
   ]
  },
  {
   "cell_type": "code",
   "execution_count": 48,
   "metadata": {},
   "outputs": [],
   "source": [
    "df.to_sql('CARTES', connection, if_exists='replace', index = True)\n",
    "connection.close()"
   ]
  },
  {
   "cell_type": "markdown",
   "metadata": {},
   "source": [
    "## Affichage des cartes ou il ya des fraudes"
   ]
  },
  {
   "cell_type": "code",
   "execution_count": 49,
   "metadata": {},
   "outputs": [
    {
     "data": {
      "text/html": [
       "<div>\n",
       "<style scoped>\n",
       "    .dataframe tbody tr th:only-of-type {\n",
       "        vertical-align: middle;\n",
       "    }\n",
       "\n",
       "    .dataframe tbody tr th {\n",
       "        vertical-align: top;\n",
       "    }\n",
       "\n",
       "    .dataframe thead th {\n",
       "        text-align: right;\n",
       "    }\n",
       "</style>\n",
       "<table border=\"1\" class=\"dataframe\">\n",
       "  <thead>\n",
       "    <tr style=\"text-align: right;\">\n",
       "      <th></th>\n",
       "      <th>index</th>\n",
       "      <th>trans_date_trans_time</th>\n",
       "      <th>merchant</th>\n",
       "      <th>category</th>\n",
       "      <th>amt</th>\n",
       "      <th>city</th>\n",
       "      <th>state</th>\n",
       "      <th>lat</th>\n",
       "      <th>long</th>\n",
       "      <th>city_pop</th>\n",
       "      <th>job</th>\n",
       "      <th>dob</th>\n",
       "      <th>trans_num</th>\n",
       "      <th>merch_lat</th>\n",
       "      <th>merch_long</th>\n",
       "      <th>is_fraud</th>\n",
       "    </tr>\n",
       "  </thead>\n",
       "  <tbody>\n",
       "    <tr>\n",
       "      <th>0</th>\n",
       "      <td>945</td>\n",
       "      <td>2019-01-04 00:58:03</td>\n",
       "      <td>\"Stokes, Christiansen and Sipes\"</td>\n",
       "      <td>grocery_net</td>\n",
       "      <td>14.37</td>\n",
       "      <td>Wales</td>\n",
       "      <td>AK</td>\n",
       "      <td>64.7556</td>\n",
       "      <td>-165.6723</td>\n",
       "      <td>145</td>\n",
       "      <td>\"Administrator, education\"</td>\n",
       "      <td>1939-11-09</td>\n",
       "      <td>a3806e984cec6ac0096d8184c64ad3a1</td>\n",
       "      <td>65.654142</td>\n",
       "      <td>-164.722603</td>\n",
       "      <td>1</td>\n",
       "    </tr>\n",
       "    <tr>\n",
       "      <th>1</th>\n",
       "      <td>1077</td>\n",
       "      <td>2019-01-04 15:06:38</td>\n",
       "      <td>Predovic Inc</td>\n",
       "      <td>shopping_net</td>\n",
       "      <td>966.11</td>\n",
       "      <td>Wales</td>\n",
       "      <td>AK</td>\n",
       "      <td>64.7556</td>\n",
       "      <td>-165.6723</td>\n",
       "      <td>145</td>\n",
       "      <td>\"Administrator, education\"</td>\n",
       "      <td>1939-11-09</td>\n",
       "      <td>a59185fe1b9ccf21323f581d7477573f</td>\n",
       "      <td>65.468863</td>\n",
       "      <td>-165.473127</td>\n",
       "      <td>1</td>\n",
       "    </tr>\n",
       "    <tr>\n",
       "      <th>2</th>\n",
       "      <td>1184</td>\n",
       "      <td>2019-01-04 22:37:04</td>\n",
       "      <td>Wisozk and Sons</td>\n",
       "      <td>misc_pos</td>\n",
       "      <td>49.61</td>\n",
       "      <td>Wales</td>\n",
       "      <td>AK</td>\n",
       "      <td>64.7556</td>\n",
       "      <td>-165.6723</td>\n",
       "      <td>145</td>\n",
       "      <td>\"Administrator, education\"</td>\n",
       "      <td>1939-11-09</td>\n",
       "      <td>86ba3a888b42cd3925881fa34177b4e0</td>\n",
       "      <td>65.347667</td>\n",
       "      <td>-165.914542</td>\n",
       "      <td>1</td>\n",
       "    </tr>\n",
       "    <tr>\n",
       "      <th>3</th>\n",
       "      <td>1192</td>\n",
       "      <td>2019-01-04 23:06:28</td>\n",
       "      <td>Murray-Smitham</td>\n",
       "      <td>grocery_pos</td>\n",
       "      <td>295.26</td>\n",
       "      <td>Wales</td>\n",
       "      <td>AK</td>\n",
       "      <td>64.7556</td>\n",
       "      <td>-165.6723</td>\n",
       "      <td>145</td>\n",
       "      <td>\"Administrator, education\"</td>\n",
       "      <td>1939-11-09</td>\n",
       "      <td>3a068fe1d856f0ecedbed33e4b5f4496</td>\n",
       "      <td>64.445035</td>\n",
       "      <td>-166.080207</td>\n",
       "      <td>1</td>\n",
       "    </tr>\n",
       "    <tr>\n",
       "      <th>4</th>\n",
       "      <td>1202</td>\n",
       "      <td>2019-01-04 23:59:09</td>\n",
       "      <td>Friesen Lt</td>\n",
       "      <td>health_fitness</td>\n",
       "      <td>18.17</td>\n",
       "      <td>Wales</td>\n",
       "      <td>AK</td>\n",
       "      <td>64.7556</td>\n",
       "      <td>-165.6723</td>\n",
       "      <td>145</td>\n",
       "      <td>\"Administrator, education\"</td>\n",
       "      <td>1939-11-09</td>\n",
       "      <td>891cdd1191028759dc20dc224347a0ff</td>\n",
       "      <td>65.447094</td>\n",
       "      <td>-165.446843</td>\n",
       "      <td>1</td>\n",
       "    </tr>\n",
       "    <tr>\n",
       "      <th>5</th>\n",
       "      <td>1236</td>\n",
       "      <td>2019-01-05 03:15:35</td>\n",
       "      <td>\"Raynor, Reinger and Hagenes\"</td>\n",
       "      <td>gas_transport</td>\n",
       "      <td>20.45</td>\n",
       "      <td>Wales</td>\n",
       "      <td>AK</td>\n",
       "      <td>64.7556</td>\n",
       "      <td>-165.6723</td>\n",
       "      <td>145</td>\n",
       "      <td>\"Administrator, education\"</td>\n",
       "      <td>1939-11-09</td>\n",
       "      <td>ef010a5f4f570d306a050a368ee2729d</td>\n",
       "      <td>64.088838</td>\n",
       "      <td>-165.104078</td>\n",
       "      <td>1</td>\n",
       "    </tr>\n",
       "    <tr>\n",
       "      <th>6</th>\n",
       "      <td>1239</td>\n",
       "      <td>2019-01-05 03:21:29</td>\n",
       "      <td>Heller-Langosh</td>\n",
       "      <td>gas_transport</td>\n",
       "      <td>18.19</td>\n",
       "      <td>Wales</td>\n",
       "      <td>AK</td>\n",
       "      <td>64.7556</td>\n",
       "      <td>-165.6723</td>\n",
       "      <td>145</td>\n",
       "      <td>\"Administrator, education\"</td>\n",
       "      <td>1939-11-09</td>\n",
       "      <td>8e2d2fae5319d31c887dddbc70627ac4</td>\n",
       "      <td>63.917785</td>\n",
       "      <td>-165.827621</td>\n",
       "      <td>1</td>\n",
       "    </tr>\n",
       "    <tr>\n",
       "      <th>7</th>\n",
       "      <td>1322</td>\n",
       "      <td>2019-01-05 11:31:23</td>\n",
       "      <td>Padberg-Welch</td>\n",
       "      <td>grocery_pos</td>\n",
       "      <td>367.29</td>\n",
       "      <td>Browning</td>\n",
       "      <td>MO</td>\n",
       "      <td>40.0290</td>\n",
       "      <td>-93.1607</td>\n",
       "      <td>602</td>\n",
       "      <td>Cytogeneticist</td>\n",
       "      <td>1954-07-14</td>\n",
       "      <td>5fbe827807ec9f557f6242bb48db0e51</td>\n",
       "      <td>39.167065</td>\n",
       "      <td>-93.705245</td>\n",
       "      <td>1</td>\n",
       "    </tr>\n",
       "  </tbody>\n",
       "</table>\n",
       "</div>"
      ],
      "text/plain": [
       "   index trans_date_trans_time                          merchant  \\\n",
       "0    945   2019-01-04 00:58:03  \"Stokes, Christiansen and Sipes\"   \n",
       "1   1077   2019-01-04 15:06:38                      Predovic Inc   \n",
       "2   1184   2019-01-04 22:37:04                   Wisozk and Sons   \n",
       "3   1192   2019-01-04 23:06:28                    Murray-Smitham   \n",
       "4   1202   2019-01-04 23:59:09                        Friesen Lt   \n",
       "5   1236   2019-01-05 03:15:35     \"Raynor, Reinger and Hagenes\"   \n",
       "6   1239   2019-01-05 03:21:29                    Heller-Langosh   \n",
       "7   1322   2019-01-05 11:31:23                     Padberg-Welch   \n",
       "\n",
       "         category     amt      city state      lat      long  city_pop  \\\n",
       "0     grocery_net   14.37     Wales    AK  64.7556 -165.6723       145   \n",
       "1    shopping_net  966.11     Wales    AK  64.7556 -165.6723       145   \n",
       "2        misc_pos   49.61     Wales    AK  64.7556 -165.6723       145   \n",
       "3     grocery_pos  295.26     Wales    AK  64.7556 -165.6723       145   \n",
       "4  health_fitness   18.17     Wales    AK  64.7556 -165.6723       145   \n",
       "5   gas_transport   20.45     Wales    AK  64.7556 -165.6723       145   \n",
       "6   gas_transport   18.19     Wales    AK  64.7556 -165.6723       145   \n",
       "7     grocery_pos  367.29  Browning    MO  40.0290  -93.1607       602   \n",
       "\n",
       "                          job         dob                         trans_num  \\\n",
       "0  \"Administrator, education\"  1939-11-09  a3806e984cec6ac0096d8184c64ad3a1   \n",
       "1  \"Administrator, education\"  1939-11-09  a59185fe1b9ccf21323f581d7477573f   \n",
       "2  \"Administrator, education\"  1939-11-09  86ba3a888b42cd3925881fa34177b4e0   \n",
       "3  \"Administrator, education\"  1939-11-09  3a068fe1d856f0ecedbed33e4b5f4496   \n",
       "4  \"Administrator, education\"  1939-11-09  891cdd1191028759dc20dc224347a0ff   \n",
       "5  \"Administrator, education\"  1939-11-09  ef010a5f4f570d306a050a368ee2729d   \n",
       "6  \"Administrator, education\"  1939-11-09  8e2d2fae5319d31c887dddbc70627ac4   \n",
       "7              Cytogeneticist  1954-07-14  5fbe827807ec9f557f6242bb48db0e51   \n",
       "\n",
       "   merch_lat  merch_long  is_fraud  \n",
       "0  65.654142 -164.722603         1  \n",
       "1  65.468863 -165.473127         1  \n",
       "2  65.347667 -165.914542         1  \n",
       "3  64.445035 -166.080207         1  \n",
       "4  65.447094 -165.446843         1  \n",
       "5  64.088838 -165.104078         1  \n",
       "6  63.917785 -165.827621         1  \n",
       "7  39.167065  -93.705245         1  "
      ]
     },
     "execution_count": 49,
     "metadata": {},
     "output_type": "execute_result"
    }
   ],
   "source": [
    "\n",
    "connection = sqlite3.connect('db.sqlite')\n",
    "df1 = pd.read_sql_query(\"SELECT * FROM CARTES WHERE is_fraud=1\", connection)\n",
    "df1\n"
   ]
  },
  {
   "cell_type": "markdown",
   "metadata": {},
   "source": [
    "## CAS SUR LES FRAUDES\n",
    "\n",
    "* Quel temps les fraudes ont été effectué ?\n",
    "* Quel job font les titulaires des cartes où il y'a eu des fraudes ? "
   ]
  },
  {
   "cell_type": "code",
   "execution_count": 26,
   "metadata": {},
   "outputs": [
    {
     "data": {
      "text/html": [
       "<div>\n",
       "<style scoped>\n",
       "    .dataframe tbody tr th:only-of-type {\n",
       "        vertical-align: middle;\n",
       "    }\n",
       "\n",
       "    .dataframe tbody tr th {\n",
       "        vertical-align: top;\n",
       "    }\n",
       "\n",
       "    .dataframe thead th {\n",
       "        text-align: right;\n",
       "    }\n",
       "</style>\n",
       "<table border=\"1\" class=\"dataframe\">\n",
       "  <thead>\n",
       "    <tr style=\"text-align: right;\">\n",
       "      <th></th>\n",
       "      <th>trans_date_trans_time</th>\n",
       "      <th>job</th>\n",
       "    </tr>\n",
       "  </thead>\n",
       "  <tbody>\n",
       "    <tr>\n",
       "      <th>0</th>\n",
       "      <td>2019-01-04 00:58:03</td>\n",
       "      <td>\"Administrator, education\"</td>\n",
       "    </tr>\n",
       "    <tr>\n",
       "      <th>1</th>\n",
       "      <td>2019-01-04 15:06:38</td>\n",
       "      <td>\"Administrator, education\"</td>\n",
       "    </tr>\n",
       "    <tr>\n",
       "      <th>2</th>\n",
       "      <td>2019-01-04 22:37:04</td>\n",
       "      <td>\"Administrator, education\"</td>\n",
       "    </tr>\n",
       "    <tr>\n",
       "      <th>3</th>\n",
       "      <td>2019-01-04 23:06:28</td>\n",
       "      <td>\"Administrator, education\"</td>\n",
       "    </tr>\n",
       "    <tr>\n",
       "      <th>4</th>\n",
       "      <td>2019-01-04 23:59:09</td>\n",
       "      <td>\"Administrator, education\"</td>\n",
       "    </tr>\n",
       "    <tr>\n",
       "      <th>5</th>\n",
       "      <td>2019-01-05 03:15:35</td>\n",
       "      <td>\"Administrator, education\"</td>\n",
       "    </tr>\n",
       "    <tr>\n",
       "      <th>6</th>\n",
       "      <td>2019-01-05 03:21:29</td>\n",
       "      <td>\"Administrator, education\"</td>\n",
       "    </tr>\n",
       "    <tr>\n",
       "      <th>7</th>\n",
       "      <td>2019-01-05 11:31:23</td>\n",
       "      <td>Cytogeneticist</td>\n",
       "    </tr>\n",
       "  </tbody>\n",
       "</table>\n",
       "</div>"
      ],
      "text/plain": [
       "  trans_date_trans_time                         job\n",
       "0   2019-01-04 00:58:03  \"Administrator, education\"\n",
       "1   2019-01-04 15:06:38  \"Administrator, education\"\n",
       "2   2019-01-04 22:37:04  \"Administrator, education\"\n",
       "3   2019-01-04 23:06:28  \"Administrator, education\"\n",
       "4   2019-01-04 23:59:09  \"Administrator, education\"\n",
       "5   2019-01-05 03:15:35  \"Administrator, education\"\n",
       "6   2019-01-05 03:21:29  \"Administrator, education\"\n",
       "7   2019-01-05 11:31:23              Cytogeneticist"
      ]
     },
     "execution_count": 26,
     "metadata": {},
     "output_type": "execute_result"
    }
   ],
   "source": [
    "connection = sqlite3.connect('db.sqlite')\n",
    "df1 = pd.read_sql_query(\"SELECT trans_date_trans_time,job FROM CARTES WHERE is_fraud=1\", connection)\n",
    "df1"
   ]
  },
  {
   "cell_type": "markdown",
   "metadata": {},
   "source": [
    "## VISUALISONS LA VILLE,LE NOMBRE DE POPULATION,LA LATITUDE ET LA LONGITUDE DU LIEU D'ACHAT ET DU MARCHANT"
   ]
  },
  {
   "cell_type": "code",
   "execution_count": 27,
   "metadata": {},
   "outputs": [
    {
     "data": {
      "text/html": [
       "<div>\n",
       "<style scoped>\n",
       "    .dataframe tbody tr th:only-of-type {\n",
       "        vertical-align: middle;\n",
       "    }\n",
       "\n",
       "    .dataframe tbody tr th {\n",
       "        vertical-align: top;\n",
       "    }\n",
       "\n",
       "    .dataframe thead th {\n",
       "        text-align: right;\n",
       "    }\n",
       "</style>\n",
       "<table border=\"1\" class=\"dataframe\">\n",
       "  <thead>\n",
       "    <tr style=\"text-align: right;\">\n",
       "      <th></th>\n",
       "      <th>city</th>\n",
       "      <th>city_pop</th>\n",
       "      <th>lat</th>\n",
       "      <th>long</th>\n",
       "      <th>merch_lat</th>\n",
       "      <th>merch_long</th>\n",
       "    </tr>\n",
       "  </thead>\n",
       "  <tbody>\n",
       "    <tr>\n",
       "      <th>0</th>\n",
       "      <td>Wales</td>\n",
       "      <td>145</td>\n",
       "      <td>64.7556</td>\n",
       "      <td>-165.6723</td>\n",
       "      <td>65.654142</td>\n",
       "      <td>-164.722603</td>\n",
       "    </tr>\n",
       "    <tr>\n",
       "      <th>1</th>\n",
       "      <td>Wales</td>\n",
       "      <td>145</td>\n",
       "      <td>64.7556</td>\n",
       "      <td>-165.6723</td>\n",
       "      <td>65.468863</td>\n",
       "      <td>-165.473127</td>\n",
       "    </tr>\n",
       "    <tr>\n",
       "      <th>2</th>\n",
       "      <td>Wales</td>\n",
       "      <td>145</td>\n",
       "      <td>64.7556</td>\n",
       "      <td>-165.6723</td>\n",
       "      <td>65.347667</td>\n",
       "      <td>-165.914542</td>\n",
       "    </tr>\n",
       "    <tr>\n",
       "      <th>3</th>\n",
       "      <td>Wales</td>\n",
       "      <td>145</td>\n",
       "      <td>64.7556</td>\n",
       "      <td>-165.6723</td>\n",
       "      <td>64.445035</td>\n",
       "      <td>-166.080207</td>\n",
       "    </tr>\n",
       "    <tr>\n",
       "      <th>4</th>\n",
       "      <td>Wales</td>\n",
       "      <td>145</td>\n",
       "      <td>64.7556</td>\n",
       "      <td>-165.6723</td>\n",
       "      <td>65.447094</td>\n",
       "      <td>-165.446843</td>\n",
       "    </tr>\n",
       "    <tr>\n",
       "      <th>5</th>\n",
       "      <td>Wales</td>\n",
       "      <td>145</td>\n",
       "      <td>64.7556</td>\n",
       "      <td>-165.6723</td>\n",
       "      <td>64.088838</td>\n",
       "      <td>-165.104078</td>\n",
       "    </tr>\n",
       "    <tr>\n",
       "      <th>6</th>\n",
       "      <td>Wales</td>\n",
       "      <td>145</td>\n",
       "      <td>64.7556</td>\n",
       "      <td>-165.6723</td>\n",
       "      <td>63.917785</td>\n",
       "      <td>-165.827621</td>\n",
       "    </tr>\n",
       "    <tr>\n",
       "      <th>7</th>\n",
       "      <td>Browning</td>\n",
       "      <td>602</td>\n",
       "      <td>40.0290</td>\n",
       "      <td>-93.1607</td>\n",
       "      <td>39.167065</td>\n",
       "      <td>-93.705245</td>\n",
       "    </tr>\n",
       "  </tbody>\n",
       "</table>\n",
       "</div>"
      ],
      "text/plain": [
       "       city  city_pop      lat      long  merch_lat  merch_long\n",
       "0     Wales       145  64.7556 -165.6723  65.654142 -164.722603\n",
       "1     Wales       145  64.7556 -165.6723  65.468863 -165.473127\n",
       "2     Wales       145  64.7556 -165.6723  65.347667 -165.914542\n",
       "3     Wales       145  64.7556 -165.6723  64.445035 -166.080207\n",
       "4     Wales       145  64.7556 -165.6723  65.447094 -165.446843\n",
       "5     Wales       145  64.7556 -165.6723  64.088838 -165.104078\n",
       "6     Wales       145  64.7556 -165.6723  63.917785 -165.827621\n",
       "7  Browning       602  40.0290  -93.1607  39.167065  -93.705245"
      ]
     },
     "execution_count": 27,
     "metadata": {},
     "output_type": "execute_result"
    }
   ],
   "source": [
    "connection = sqlite3.connect('db.sqlite')\n",
    "df1 = pd.read_sql_query(\"SELECT city,city_pop,lat,long,merch_lat,merch_long FROM CARTES WHERE is_fraud=1\", connection)\n",
    "df1"
   ]
  },
  {
   "cell_type": "markdown",
   "metadata": {},
   "source": [
    "## VISUALISATION DES 5 PREMIERES LIGNES SUR LE MAKDOWN "
   ]
  },
  {
   "cell_type": "code",
   "execution_count": 9,
   "metadata": {},
   "outputs": [
    {
     "name": "stdout",
     "output_type": "stream",
     "text": [
      "|    | trans_date_trans_time   | merchant                    | category      |    amt | city                     | state   |     lat |     long |   city_pop | job                               | dob        | trans_num                        |   merch_lat |   merch_long |   is_fraud |\n",
      "|---:|:------------------------|:----------------------------|:--------------|-------:|:-------------------------|:--------|--------:|---------:|-----------:|:----------------------------------|:-----------|:---------------------------------|------------:|-------------:|-----------:|\n",
      "|  0 | 2019-01-01 00:00:44     | \"Heller, Gutmann and Zieme\" | grocery_pos   | 107.23 | Orient                   | WA      | 48.8878 | -118.21  |        149 | Special educational needs teacher | 1978-06-21 | 1f76529f8574734946361c461b024d99 |     49.159  |     -118.186 |          0 |\n",
      "|  1 | 2019-01-01 00:00:51     | Lind-Buckridge              | entertainment | 220.11 | Malad City               | ID      | 42.1808 | -112.262 |       4154 | Nature conservation officer       | 1962-01-19 | a1a22d70485983eac12b5b88dad1cf95 |     43.1507 |     -112.154 |          0 |\n",
      "|  2 | 2019-01-01 00:07:27     | Kiehn Inc                   | grocery_pos   |  96.29 | Grenada                  | CA      | 41.6125 | -122.526 |        589 | Systems analyst                   | 1945-12-21 | 413636e759663f264aae1819a4d4f231 |     41.6575 |     -122.23  |          0 |\n",
      "|  3 | 2019-01-01 00:09:03     | Beier-Hyatt                 | shopping_pos  |   7.77 | High Rolls Mountain Park | NM      | 32.9396 | -105.819 |        899 | Naval architect                   | 1967-08-30 | 8a6293af5ed278dea14448ded2685fea |     32.8633 |     -106.52  |          0 |\n",
      "|  4 | 2019-01-01 00:21:32     | Bruen-Yost                  | misc_pos      |   6.85 | Freedom                  | WY      | 43.0172 | -111.029 |        471 | \"Education officer, museum\"       | 1967-08-02 | f3c43d336e92a44fc2fb67058d5949e3 |     43.7537 |     -111.455 |          0 |\n"
     ]
    }
   ],
   "source": [
    "print(df.head().to_markdown())"
   ]
  },
  {
   "cell_type": "code",
   "execution_count": null,
   "metadata": {},
   "outputs": [],
   "source": []
  }
 ],
 "metadata": {
  "kernelspec": {
   "display_name": "Python 3.9.13 ('base')",
   "language": "python",
   "name": "python3"
  },
  "language_info": {
   "codemirror_mode": {
    "name": "ipython",
    "version": 3
   },
   "file_extension": ".py",
   "mimetype": "text/x-python",
   "name": "python",
   "nbconvert_exporter": "python",
   "pygments_lexer": "ipython3",
   "version": "3.9.13"
  },
  "orig_nbformat": 4,
  "vscode": {
   "interpreter": {
    "hash": "701d4f28dcd0866722f5108a3a4cbcd08882d26398b6d44117e791d7b8102912"
   }
  }
 },
 "nbformat": 4,
 "nbformat_minor": 2
}
