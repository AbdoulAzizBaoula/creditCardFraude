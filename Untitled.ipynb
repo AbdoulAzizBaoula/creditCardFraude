{
 "cells": [
  {
   "cell_type": "code",
   "execution_count": 15,
   "id": "d88d1573",
   "metadata": {
    "slideshow": {
     "slide_type": "skip"
    }
   },
   "outputs": [
    {
     "data": {
      "text/html": [
       "<link rel=\"stylesheet\" href=\"\"/> \n",
       "<link rel=\"stylesheet\" href=\"\"/>\n",
       "<link rel=\"stylesheet\" href=\"~/mycss.css\"/>\n"
      ],
      "text/plain": [
       "<IPython.core.display.HTML object>"
      ]
     },
     "metadata": {},
     "output_type": "display_data"
    }
   ],
   "source": [
    "%%HTML\n",
    "<link rel=\"stylesheet\" href=\"\"/> \n",
    "<link rel=\"stylesheet\" href=\"\"/>\n",
    "<link rel=\"stylesheet\" href=\"mycss.css\"/>"
   ]
  },
  {
   "cell_type": "markdown",
   "id": "2c52fd1c",
   "metadata": {
    "slideshow": {
     "slide_type": "slide"
    }
   },
   "source": [
    "|   |         |\n",
    "|:-:|:-------:|\n",
    "|**NOM**| **PRENOM(S)**|\n",
    "|**BAOULA**| **Abdoul Aziz**|\n",
    "|**BAOULA**| **Abdoul Aziz**|\n",
    "|**BAOULA**| **Abdoul Aziz**|\n",
    "|**BAOULA**| **Abdoul Aziz**|\n",
    "|**BAOULA**| **Abdoul Aziz**|"
   ]
  },
  {
   "cell_type": "markdown",
   "id": "6ed2b588",
   "metadata": {
    "slideshow": {
     "slide_type": "slide"
    }
   },
   "source": [
    "<p class=\"fragment\" data-fragment-index=\"1\">Appears first</p>\n",
    "<p class=\"fragment\" data-fragment-index=\"2\">Appears second</p>\n",
    "<p class=\"fragment\" data-fragment-index=\"3\">Appears last</p>"
   ]
  },
  {
   "cell_type": "markdown",
   "id": "6a39e784",
   "metadata": {
    "slideshow": {
     "slide_type": "slide"
    }
   },
   "source": [
    "<p class=\"fragment\">Exemple</p>\n",
    "<p class=\"fragment fade-out\">Fade out</p>\n",
    "<p class=\"fragment highlight-red\">Highlight red</p>\n",
    "<p class=\"fragment fade-in-then-out\">Ceci vas apparairaitre puis disparaitre</p>\n",
    "<p class=\"fragment fade-up\">Effet transition up</p>"
   ]
  },
  {
   "cell_type": "markdown",
   "id": "ccdfd9ab",
   "metadata": {
    "slideshow": {
     "slide_type": "slide"
    }
   },
   "source": [
    "<p class=\"fragment\" data-fragment-index=\"1\">Appears first</p>\n",
    "<p class=\"fragment\" data-fragment-index=\"2\">Appears second</p>\n",
    "<p class=\"fragment\" data-fragment-index=\"3\">Appears last</p>"
   ]
  }
 ],
 "metadata": {
  "celltoolbar": "Diaporama",
  "kernelspec": {
   "display_name": "Python 3 (ipykernel)",
   "language": "python",
   "name": "python3"
  },
  "language_info": {
   "codemirror_mode": {
    "name": "ipython",
    "version": 3
   },
   "file_extension": ".py",
   "mimetype": "text/x-python",
   "name": "python",
   "nbconvert_exporter": "python",
   "pygments_lexer": "ipython3",
   "version": "3.9.13"
  }
 },
 "nbformat": 4,
 "nbformat_minor": 5
}
